{
 "cells": [
  {
   "cell_type": "code",
   "execution_count": 2,
   "metadata": {},
   "outputs": [],
   "source": [
    "import os\n",
    "import xml.etree.ElementTree as ET\n",
    "import pandas as pd"
   ]
  },
  {
   "cell_type": "code",
   "execution_count": 3,
   "metadata": {},
   "outputs": [],
   "source": [
    "def extract_putusan_xml_to_dict(element):\n",
    "   data = {}\n",
    "\n",
    "    # Menyimpan atribut dari tag <putusan>\n",
    "   if element.tag == 'putusan':\n",
    "      for key, value in element.attrib.items():\n",
    "         data[key] = value\n",
    "\n",
    "    # Rekursif untuk semua anak elemen\n",
    "   for child in element:\n",
    "      if child.text and child.text.strip():\n",
    "         data[child.tag] = child.text.strip()\n",
    "      # Rekursif untuk anak elemen yang lebih dalam\n",
    "      child_data = extract_putusan_xml_to_dict(child)\n",
    "      data.update(child_data)\n",
    "    \n",
    "   return data\n",
    "\n",
    "def get_root_xml(filename):\n",
    "   tree = ET.parse(filename)\n",
    "   return tree.getroot()"
   ]
  },
  {
   "cell_type": "code",
   "execution_count": 4,
   "metadata": {},
   "outputs": [
    {
     "name": "stdout",
     "output_type": "stream",
     "text": [
      "total files xml: 22630\n"
     ]
    }
   ],
   "source": [
    "files = [f\"../data/dataset_putusan/{file}\" for file in os.listdir(\"../data/dataset_putusan\")]\n",
    "\n",
    "print(f\"total files xml: {len(files)}\")"
   ]
  },
  {
   "cell_type": "code",
   "execution_count": 5,
   "metadata": {},
   "outputs": [
    {
     "name": "stdout",
     "output_type": "stream",
     "text": [
      "total object xml: 22630\n"
     ]
    }
   ],
   "source": [
    "# Parse file XML to object\n",
    "objects_xml = [get_root_xml(file) for file in files]\n",
    "\n",
    "print(f\"total object xml: {len(objects_xml)}\")"
   ]
  },
  {
   "cell_type": "code",
   "execution_count": 6,
   "metadata": {},
   "outputs": [],
   "source": [
    "# Ambil data dari tag <putusan>\n",
    "data_pidana_umum = []\n",
    "data_pidana_khusus = []\n",
    "\n",
    "for object in objects_xml:\n",
    "   data = extract_putusan_xml_to_dict(object)\n",
    "\n",
    "   if data['klasifikasi'] == \"pidana-umum\":\n",
    "      data_pidana_umum.append(data)\n",
    "   else:\n",
    "      data_pidana_khusus.append(data)"
   ]
  },
  {
   "cell_type": "code",
   "execution_count": 11,
   "metadata": {},
   "outputs": [
    {
     "name": "stdout",
     "output_type": "stream",
     "text": [
      "100\n"
     ]
    }
   ],
   "source": [
    "print(len(data_pidana_umum[:100]))\n",
    "\n",
    "df_pidana_umum_test = pd.DataFrame(data_pidana_umum[:100])\n",
    "\n",
    "df_pidana_umum_test.to_csv(\"../data/dataset_csv/dataset_pidana_umum_test.csv\", index=False)"
   ]
  },
  {
   "cell_type": "code",
   "execution_count": 6,
   "metadata": {},
   "outputs": [
    {
     "name": "stdout",
     "output_type": "stream",
     "text": [
      "<class 'pandas.core.frame.DataFrame'>\n",
      "RangeIndex: 10729 entries, 0 to 10728\n",
      "Data columns (total 21 columns):\n",
      " #   Column              Non-Null Count  Dtype \n",
      "---  ------              --------------  ----- \n",
      " 0   amar                10729 non-null  object\n",
      " 1   amar_lainnya        10729 non-null  object\n",
      " 2   id                  10729 non-null  object\n",
      " 3   klasifikasi         10729 non-null  object\n",
      " 4   lama_hukuman        10729 non-null  object\n",
      " 5   lembaga_peradilan   10729 non-null  object\n",
      " 6   provinsi            10729 non-null  object\n",
      " 7   status              10729 non-null  object\n",
      " 8   sub_klasifikasi     10729 non-null  object\n",
      " 9   url                 10729 non-null  object\n",
      " 10  kepala_putusan      10727 non-null  object\n",
      " 11  identitas           9481 non-null   object\n",
      " 12  riwayat_penahanan   8830 non-null   object\n",
      " 13  riwayat_perkara     10630 non-null  object\n",
      " 14  riwayat_tuntutan    10228 non-null  object\n",
      " 15  riwayat_dakwaan     10577 non-null  object\n",
      " 16  fakta               10374 non-null  object\n",
      " 17  amar_putusan        10719 non-null  object\n",
      " 18  penutup             10523 non-null  object\n",
      " 19  fakta_hukum         4975 non-null   object\n",
      " 20  pertimbangan_hukum  4887 non-null   object\n",
      "dtypes: object(21)\n",
      "memory usage: 1.7+ MB\n",
      "<class 'pandas.core.frame.DataFrame'>\n",
      "RangeIndex: 11901 entries, 0 to 11900\n",
      "Data columns (total 21 columns):\n",
      " #   Column              Non-Null Count  Dtype \n",
      "---  ------              --------------  ----- \n",
      " 0   amar                11901 non-null  object\n",
      " 1   amar_lainnya        11901 non-null  object\n",
      " 2   id                  11901 non-null  object\n",
      " 3   klasifikasi         11901 non-null  object\n",
      " 4   lama_hukuman        11901 non-null  object\n",
      " 5   lembaga_peradilan   11901 non-null  object\n",
      " 6   provinsi            11901 non-null  object\n",
      " 7   status              11901 non-null  object\n",
      " 8   sub_klasifikasi     11901 non-null  object\n",
      " 9   url                 11901 non-null  object\n",
      " 10  kepala_putusan      11901 non-null  object\n",
      " 11  identitas           10268 non-null  object\n",
      " 12  riwayat_penahanan   9814 non-null   object\n",
      " 13  riwayat_perkara     11739 non-null  object\n",
      " 14  riwayat_tuntutan    11439 non-null  object\n",
      " 15  riwayat_dakwaan     11720 non-null  object\n",
      " 16  fakta               11453 non-null  object\n",
      " 17  fakta_hukum         5641 non-null   object\n",
      " 18  amar_putusan        11898 non-null  object\n",
      " 19  penutup             11671 non-null  object\n",
      " 20  pertimbangan_hukum  5843 non-null   object\n",
      "dtypes: object(21)\n",
      "memory usage: 1.9+ MB\n"
     ]
    },
    {
     "data": {
      "text/plain": [
       "(None, None)"
      ]
     },
     "execution_count": 6,
     "metadata": {},
     "output_type": "execute_result"
    }
   ],
   "source": [
    "df_pidana_umum = pd.DataFrame(data_pidana_umum)\n",
    "df_pidana_khusus = pd.DataFrame(data_pidana_khusus)\n",
    "\n",
    "df_pidana_umum.info(), df_pidana_khusus.info()"
   ]
  },
  {
   "cell_type": "code",
   "execution_count": 10,
   "metadata": {},
   "outputs": [
    {
     "data": {
      "text/plain": [
       "(10729, 11901)"
      ]
     },
     "execution_count": 10,
     "metadata": {},
     "output_type": "execute_result"
    }
   ],
   "source": [
    "df_pidana_umum.shape[0], df_pidana_khusus.shape[0]"
   ]
  },
  {
   "cell_type": "code",
   "execution_count": 7,
   "metadata": {},
   "outputs": [],
   "source": [
    "df_pidana_umum.to_csv(\"../data/dataset_csv/dataset_pidana_umum.csv\", index=False)\n",
    "df_pidana_khusus.to_csv(\"../data/dataset_csv/dataset_pidana_khusus.csv\", index=False)"
   ]
  }
 ],
 "metadata": {
  "kernelspec": {
   "display_name": "Python 3",
   "language": "python",
   "name": "python3"
  },
  "language_info": {
   "codemirror_mode": {
    "name": "ipython",
    "version": 3
   },
   "file_extension": ".py",
   "mimetype": "text/x-python",
   "name": "python",
   "nbconvert_exporter": "python",
   "pygments_lexer": "ipython3",
   "version": "3.10.6"
  }
 },
 "nbformat": 4,
 "nbformat_minor": 2
}
