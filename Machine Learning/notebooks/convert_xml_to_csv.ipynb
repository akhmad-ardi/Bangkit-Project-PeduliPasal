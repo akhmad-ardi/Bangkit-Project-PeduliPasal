{
 "cells": [
  {
   "cell_type": "code",
   "execution_count": 3,
   "metadata": {},
   "outputs": [],
   "source": [
    "import os\n",
    "import re\n",
    "import xml.etree.ElementTree as ET\n",
    "import pandas as pd"
   ]
  },
  {
   "cell_type": "code",
   "execution_count": 2,
   "metadata": {},
   "outputs": [],
   "source": [
    "def extract_putusan_xml_to_dict(element):\n",
    "   data = {}\n",
    "\n",
    "    # Menyimpan atribut dari tag <putusan>\n",
    "   if element.tag == 'putusan':\n",
    "      for key, value in element.attrib.items():\n",
    "         data[key] = value\n",
    "\n",
    "    # Rekursif untuk semua anak elemen\n",
    "   for child in element:\n",
    "      if child.text and child.text.strip():\n",
    "         data[child.tag] = child.text.strip()\n",
    "      # Rekursif untuk anak elemen yang lebih dalam\n",
    "      child_data = extract_putusan_xml_to_dict(child)\n",
    "      data.update(child_data)\n",
    "    \n",
    "   return data\n",
    "\n",
    "def get_root_xml(filename):\n",
    "   tree = ET.parse(filename)\n",
    "   return tree.getroot()"
   ]
  },
  {
   "cell_type": "code",
   "execution_count": 3,
   "metadata": {},
   "outputs": [
    {
     "name": "stdout",
     "output_type": "stream",
     "text": [
      "total files xml: 22630\n"
     ]
    }
   ],
   "source": [
    "files = [f\"../data/dataset_putusan/indo-law-main/dataset/{file}\" for file in os.listdir(\"../data/dataset_putusan/indo-law-main/dataset\")]\n",
    "\n",
    "print(f\"total files xml: {len(files)}\")"
   ]
  },
  {
   "cell_type": "code",
   "execution_count": 4,
   "metadata": {},
   "outputs": [
    {
     "name": "stdout",
     "output_type": "stream",
     "text": [
      "total object xml: 22630\n"
     ]
    }
   ],
   "source": [
    "# Parse file XML to object\n",
    "objects_xml = [get_root_xml(file) for file in files]\n",
    "\n",
    "print(f\"total object xml: {len(objects_xml)}\")"
   ]
  },
  {
   "cell_type": "code",
   "execution_count": 5,
   "metadata": {},
   "outputs": [
    {
     "ename": "NameError",
     "evalue": "name 'objects_xml' is not defined",
     "output_type": "error",
     "traceback": [
      "\u001b[1;31m---------------------------------------------------------------------------\u001b[0m",
      "\u001b[1;31mNameError\u001b[0m                                 Traceback (most recent call last)",
      "Cell \u001b[1;32mIn[5], line 5\u001b[0m\n\u001b[0;32m      2\u001b[0m data_pidana_umum \u001b[38;5;241m=\u001b[39m []\n\u001b[0;32m      3\u001b[0m data_pidana_khusus \u001b[38;5;241m=\u001b[39m []\n\u001b[1;32m----> 5\u001b[0m \u001b[38;5;28;01mfor\u001b[39;00m \u001b[38;5;28mobject\u001b[39m \u001b[38;5;129;01min\u001b[39;00m \u001b[43mobjects_xml\u001b[49m:\n\u001b[0;32m      6\u001b[0m    data \u001b[38;5;241m=\u001b[39m extract_putusan_xml_to_dict(\u001b[38;5;28mobject\u001b[39m)\n\u001b[0;32m      8\u001b[0m    \u001b[38;5;28;01mif\u001b[39;00m data[\u001b[38;5;124m'\u001b[39m\u001b[38;5;124mklasifikasi\u001b[39m\u001b[38;5;124m'\u001b[39m] \u001b[38;5;241m==\u001b[39m \u001b[38;5;124m\"\u001b[39m\u001b[38;5;124mpidana-umum\u001b[39m\u001b[38;5;124m\"\u001b[39m:\n",
      "\u001b[1;31mNameError\u001b[0m: name 'objects_xml' is not defined"
     ]
    }
   ],
   "source": [
    "# Ambil data dari tag <putusan>\n",
    "data_pidana_umum = []\n",
    "data_pidana_khusus = []\n",
    "\n",
    "for object in objects_xml:\n",
    "   data = extract_putusan_xml_to_dict(object)\n",
    "\n",
    "   if data['klasifikasi'] == \"pidana-umum\":\n",
    "      data_pidana_umum.append(data)\n",
    "   else:\n",
    "      data_pidana_khusus.append(data)"
   ]
  },
  {
   "cell_type": "code",
   "execution_count": 6,
   "metadata": {},
   "outputs": [
    {
     "name": "stdout",
     "output_type": "stream",
     "text": [
      "100\n"
     ]
    }
   ],
   "source": [
    "print(len(data_pidana_umum[:100]))\n",
    "\n",
    "df_pidana_umum_test = pd.DataFrame(data_pidana_umum[:100])\n",
    "\n",
    "df_pidana_umum_test.to_csv(\"../data/dataset_csv/dataset_pidana_umum_test.csv\", index=False)"
   ]
  },
  {
   "cell_type": "code",
   "execution_count": 4,
   "metadata": {},
   "outputs": [
    {
     "ename": "NameError",
     "evalue": "name 'data_pidana_umum' is not defined",
     "output_type": "error",
     "traceback": [
      "\u001b[1;31m---------------------------------------------------------------------------\u001b[0m",
      "\u001b[1;31mNameError\u001b[0m                                 Traceback (most recent call last)",
      "Cell \u001b[1;32mIn[4], line 1\u001b[0m\n\u001b[1;32m----> 1\u001b[0m df_pidana_umum \u001b[38;5;241m=\u001b[39m pd\u001b[38;5;241m.\u001b[39mDataFrame(\u001b[43mdata_pidana_umum\u001b[49m)\n\u001b[0;32m      2\u001b[0m df_pidana_khusus \u001b[38;5;241m=\u001b[39m pd\u001b[38;5;241m.\u001b[39mDataFrame(data_pidana_khusus)\n\u001b[0;32m      4\u001b[0m df_pidana_umum\u001b[38;5;241m.\u001b[39minfo(), df_pidana_khusus\u001b[38;5;241m.\u001b[39minfo()\n",
      "\u001b[1;31mNameError\u001b[0m: name 'data_pidana_umum' is not defined"
     ]
    }
   ],
   "source": [
    "df_pidana_umum = pd.DataFrame(data_pidana_umum)\n",
    "df_pidana_khusus = pd.DataFrame(data_pidana_khusus)\n",
    "\n",
    "df_pidana_umum.info(), df_pidana_khusus.info()"
   ]
  },
  {
   "cell_type": "code",
   "execution_count": 8,
   "metadata": {},
   "outputs": [
    {
     "data": {
      "text/plain": [
       "(10729, 11901)"
      ]
     },
     "execution_count": 8,
     "metadata": {},
     "output_type": "execute_result"
    }
   ],
   "source": [
    "df_pidana_umum.shape[0], df_pidana_khusus.shape[0]"
   ]
  },
  {
   "cell_type": "code",
   "execution_count": 1,
   "metadata": {},
   "outputs": [
    {
     "ename": "NameError",
     "evalue": "name 'df_pidana_umum' is not defined",
     "output_type": "error",
     "traceback": [
      "\u001b[1;31m---------------------------------------------------------------------------\u001b[0m",
      "\u001b[1;31mNameError\u001b[0m                                 Traceback (most recent call last)",
      "Cell \u001b[1;32mIn[1], line 1\u001b[0m\n\u001b[1;32m----> 1\u001b[0m df_pidana_umum_test \u001b[38;5;241m=\u001b[39m \u001b[43mdf_pidana_umum\u001b[49m[\u001b[38;5;124m'\u001b[39m\u001b[38;5;124mamar\u001b[39m\u001b[38;5;124m'\u001b[39m,\u001b[38;5;124m'\u001b[39m\u001b[38;5;124msub_klasifikasi\u001b[39m\u001b[38;5;124m'\u001b[39m,\u001b[38;5;124m'\u001b[39m\u001b[38;5;124mriwayat_dakwaan\u001b[39m\u001b[38;5;124m'\u001b[39m][:\u001b[38;5;241m10\u001b[39m]\n\u001b[0;32m      4\u001b[0m cases \u001b[38;5;241m=\u001b[39m [\u001b[38;5;28mstr\u001b[39m(case) \u001b[38;5;28;01mfor\u001b[39;00m i, case \u001b[38;5;129;01min\u001b[39;00m \u001b[38;5;28menumerate\u001b[39m(df_pidana_umum_test)]\n\u001b[0;32m      7\u001b[0m \u001b[38;5;28;01mfor\u001b[39;00m i, case \u001b[38;5;129;01min\u001b[39;00m \u001b[38;5;28menumerate\u001b[39m(cases):\n",
      "\u001b[1;31mNameError\u001b[0m: name 'df_pidana_umum' is not defined"
     ]
    }
   ],
   "source": [
    "df_pidana_umum_test = df_pidana_umum['amar','sub_klasifikasi','riwayat_dakwaan'][:10]\n",
    "\n",
    "    \n",
    "cases = [str(case) for i, case in enumerate(df_pidana_umum_test)]\n",
    "\n",
    "\n",
    "for i, case in enumerate(cases):\n",
    "    print(f\"Index {i}: {case}\")"
   ]
  },
  {
   "cell_type": "code",
   "execution_count": null,
   "metadata": {},
   "outputs": [],
   "source": [
    "\n",
    "\n",
    "\n",
    "def filter_pasal(text):\n",
    "    if not isinstance(text, str):\n",
    "        raise TypeError(\"Input harus berupa string\")\n",
    "    \n",
    "    regex = r\"pasal\\s\\d+(?:\\s(?:ayat\\s\\d+))?\\sku(hp)?\"\n",
    "    matches = [match.group(0) for match in re.finditer(regex, text)]\n",
    "    return \", \".join(matches)"
   ]
  },
  {
   "cell_type": "code",
   "execution_count": 62,
   "metadata": {},
   "outputs": [
    {
     "name": "stdout",
     "output_type": "stream",
     "text": [
      "Sebelum filter: 10\n",
      "Setelah filter: 10\n"
     ]
    }
   ],
   "source": [
    "print(f\"Sebelum filter: {len(cases)}\")\n",
    "\n",
    "pasal_list = []\n",
    "\n",
    "for i, case in enumerate(cases):\n",
    "    pasal_list.append(filter_pasal(case))\n",
    "        \n",
    "print(f\"Setelah filter: {len(pasal_list)}\")"
   ]
  },
  {
   "cell_type": "code",
   "execution_count": 65,
   "metadata": {},
   "outputs": [
    {
     "name": "stdout",
     "output_type": "stream",
     "text": [
      "['pasal 263 ayat 1 kuhp, pasal 374 kuhp', 'pasal 362 kuhp', 'pasal 387 kuhp', '', '', '', 'pasal 342 kuhp, pasal 341 kuhp', 'pasal 480 ayat 1 kuhp', 'pasal 378 kuhp, pasal 372 kuhp', '']\n"
     ]
    },
    {
     "data": {
      "text/plain": [
       "['pasal 263 ayat 1 kuhp, pasal 374 kuhp',\n",
       " 'pasal 362 kuhp',\n",
       " 'pasal 387 kuhp',\n",
       " '',\n",
       " '',\n",
       " '',\n",
       " 'pasal 342 kuhp, pasal 341 kuhp',\n",
       " 'pasal 480 ayat 1 kuhp',\n",
       " 'pasal 378 kuhp, pasal 372 kuhp',\n",
       " '']"
      ]
     },
     "execution_count": 65,
     "metadata": {},
     "output_type": "execute_result"
    }
   ],
   "source": [
    "print(f\"{pasal_list}\")\n",
    "\n",
    "df_pidana_umum_test['pasal'] = pasal_list\n",
    "\n",
    "df_pidana_umum_test['pasal']"
   ]
  },
  {
   "cell_type": "code",
   "execution_count": 12,
   "metadata": {},
   "outputs": [],
   "source": [
    "# for i in range(0,10):\n",
    "#     print(f\"{i}: {filter_pasal(cases[i])}\")"
   ]
  },
  {
   "cell_type": "code",
   "execution_count": 13,
   "metadata": {},
   "outputs": [],
   "source": [
    "# df_pidana_umum_test.to_csv(\"../data/dataset_csv/dataset_pidana_umum_test.csv\", index=False)"
   ]
  },
  {
   "cell_type": "code",
   "execution_count": 14,
   "metadata": {},
   "outputs": [],
   "source": [
    "# df_pidana_umum.to_csv(\"../data/dataset_csv/dataset_pidana_umum.csv\", index=False)\n",
    "# df_pidana_khusus.to_csv(\"../data/dataset_csv/dataset_pidana_khusus.csv\", index=False)"
   ]
  }
 ],
 "metadata": {
  "kernelspec": {
   "display_name": "Machine_Learning-XVKdUonC",
   "language": "python",
   "name": "python3"
  },
  "language_info": {
   "codemirror_mode": {
    "name": "ipython",
    "version": 3
   },
   "file_extension": ".py",
   "mimetype": "text/x-python",
   "name": "python",
   "nbconvert_exporter": "python",
   "pygments_lexer": "ipython3",
   "version": "3.10.11"
  }
 },
 "nbformat": 4,
 "nbformat_minor": 2
}
