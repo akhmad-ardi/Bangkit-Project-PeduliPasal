{
 "cells": [
  {
   "cell_type": "markdown",
   "metadata": {},
   "source": [
    "### Import Library"
   ]
  },
  {
   "cell_type": "code",
   "execution_count": 2,
   "metadata": {},
   "outputs": [],
   "source": [
    "import pandas as pd\n",
    "import numpy as np\n",
    "import tensorflow as tf\n",
    "from sklearn.model_selection import train_test_split\n",
    "from tensorflow.keras.preprocessing.text import Tokenizer\n",
    "from tensorflow.keras.preprocessing.sequence import pad_sequences\n",
    "from tensorflow.keras.utils import to_categorical\n",
    "from tensorflow.keras.models import Sequential\n",
    "from tensorflow.keras.layers import Embedding, Conv1D, MaxPooling1D, LSTM, Dense, Dropout, BatchNormalization"
   ]
  },
  {
   "cell_type": "markdown",
   "metadata": {},
   "source": [
    "### Membaca File CSV dan Menampilkan Data Awal"
   ]
  },
  {
   "cell_type": "code",
   "execution_count": 3,
   "metadata": {},
   "outputs": [
    {
     "data": {
      "text/html": [
       "<div>\n",
       "<style scoped>\n",
       "    .dataframe tbody tr th:only-of-type {\n",
       "        vertical-align: middle;\n",
       "    }\n",
       "\n",
       "    .dataframe tbody tr th {\n",
       "        vertical-align: top;\n",
       "    }\n",
       "\n",
       "    .dataframe thead th {\n",
       "        text-align: right;\n",
       "    }\n",
       "</style>\n",
       "<table border=\"1\" class=\"dataframe\">\n",
       "  <thead>\n",
       "    <tr style=\"text-align: right;\">\n",
       "      <th></th>\n",
       "      <th>amar</th>\n",
       "      <th>amar_lainnya</th>\n",
       "      <th>id</th>\n",
       "      <th>klasifikasi</th>\n",
       "      <th>lama_hukuman</th>\n",
       "      <th>lembaga_peradilan</th>\n",
       "      <th>provinsi</th>\n",
       "      <th>status</th>\n",
       "      <th>sub_klasifikasi</th>\n",
       "      <th>url</th>\n",
       "      <th>...</th>\n",
       "      <th>identitas</th>\n",
       "      <th>riwayat_penahanan</th>\n",
       "      <th>riwayat_perkara</th>\n",
       "      <th>riwayat_tuntutan</th>\n",
       "      <th>riwayat_dakwaan</th>\n",
       "      <th>fakta</th>\n",
       "      <th>amar_putusan</th>\n",
       "      <th>penutup</th>\n",
       "      <th>fakta_hukum</th>\n",
       "      <th>pertimbangan_hukum</th>\n",
       "    </tr>\n",
       "  </thead>\n",
       "  <tbody>\n",
       "    <tr>\n",
       "      <th>0</th>\n",
       "      <td>pidana</td>\n",
       "      <td>hukum</td>\n",
       "      <td>00035681c8d944203f25d2e8215ae2bf</td>\n",
       "      <td>pidana-umum</td>\n",
       "      <td>210</td>\n",
       "      <td>pn-kudus</td>\n",
       "      <td>jateng</td>\n",
       "      <td>berkekuatan-hukum-tetap</td>\n",
       "      <td>pemalsuan</td>\n",
       "      <td>https://putusan3.mahkamahagung.go.id/direktori...</td>\n",
       "      <td>...</td>\n",
       "      <td>nama lengkap eny sulistiyaningsih binti mashad...</td>\n",
       "      <td>terdakwa ditahan dengan jenis tahanan rutan se...</td>\n",
       "      <td>pengadilan negeri tersebut\\nsetelah membaca be...</td>\n",
       "      <td>setelah mendengar tuntutan requsitoir penuntut...</td>\n",
       "      <td>menimbang bahwa terdakwa diajukan di persidang...</td>\n",
       "      <td>menimbang bahwa selanjutnya untuk membuktikan ...</td>\n",
       "      <td>mengadili 1 menyatakan terdakwa eny sulistiyan...</td>\n",
       "      <td>demikian diputuskan dalam rapat permusyawarata...</td>\n",
       "      <td>NaN</td>\n",
       "      <td>NaN</td>\n",
       "    </tr>\n",
       "    <tr>\n",
       "      <th>1</th>\n",
       "      <td>pidana</td>\n",
       "      <td>hukum</td>\n",
       "      <td>000399ce26773e18695ce14f519cb9e6</td>\n",
       "      <td>pidana-umum</td>\n",
       "      <td>720</td>\n",
       "      <td>pn-demak</td>\n",
       "      <td>jateng</td>\n",
       "      <td>berkekuatan-hukum-tetap</td>\n",
       "      <td>pencurian</td>\n",
       "      <td>https://putusan3.mahkamahagung.go.id/direktori...</td>\n",
       "      <td>...</td>\n",
       "      <td>nama lengkap ali maftuhin bin nur salim tempat...</td>\n",
       "      <td>terdakwa ditahan di rumah tahanan negara berda...</td>\n",
       "      <td>pengadilan negeri tersebut\\nsetelah membaca\\np...</td>\n",
       "      <td>setelah mendengar surat tuntutan pidana requis...</td>\n",
       "      <td>menimbang bahwa terdakwa didakwa oleh penuntut...</td>\n",
       "      <td>menimbang bahwa untuk menguatkan dakwaan terse...</td>\n",
       "      <td>mengadili 1 menyatakan terdakwa ali maftuhin b...</td>\n",
       "      <td>demikianlah diputuskan dalam rapat permusyawar...</td>\n",
       "      <td>menimbang bahwa berdasarkan keterangan saksi s...</td>\n",
       "      <td>NaN</td>\n",
       "    </tr>\n",
       "    <tr>\n",
       "      <th>2</th>\n",
       "      <td>pidana</td>\n",
       "      <td>jatuh-pidana-oleh-karena-itu-kepada-dakwa-ir-b...</td>\n",
       "      <td>0006582ad67cd9bd1ddf4261a09bf382</td>\n",
       "      <td>pidana-umum</td>\n",
       "      <td>120</td>\n",
       "      <td>pn-kediri</td>\n",
       "      <td>jatim</td>\n",
       "      <td>berkekuatan-hukum-tetap</td>\n",
       "      <td>kejahatan-terhadap-keamanan-negara</td>\n",
       "      <td>https://putusan3.mahkamahagung.go.id/direktori...</td>\n",
       "      <td>...</td>\n",
       "      <td>nama lengkap ir bambang sasongko bin r soewarn...</td>\n",
       "      <td>terdakwa tidak ditahan</td>\n",
       "      <td>terdakwa didampingi oleh penasehat hukumnya ya...</td>\n",
       "      <td>telah mendengar pembacaan tuntutan pidana oleh...</td>\n",
       "      <td>menimbang bahwa terdakwa diajukan di persidang...</td>\n",
       "      <td>menimbang bahwa selanjutnya dipersidangan tela...</td>\n",
       "      <td>mengadili\\n1 menyatakan terdakwa ir bambang sa...</td>\n",
       "      <td>demikian diputuskan dalam rapat musyawarah maj...</td>\n",
       "      <td>NaN</td>\n",
       "      <td>NaN</td>\n",
       "    </tr>\n",
       "    <tr>\n",
       "      <th>3</th>\n",
       "      <td>pidana</td>\n",
       "      <td>hukum</td>\n",
       "      <td>00122b1be15a10ad474bb3b7ec0dea73</td>\n",
       "      <td>pidana-umum</td>\n",
       "      <td>90</td>\n",
       "      <td>pn-sampang</td>\n",
       "      <td>jatim</td>\n",
       "      <td>berkekuatan-hukum-tetap</td>\n",
       "      <td>penghinaan</td>\n",
       "      <td>https://putusan3.mahkamahagung.go.id/direktori...</td>\n",
       "      <td>...</td>\n",
       "      <td>nama lengkap ahmad al pak saki tempat lahir sa...</td>\n",
       "      <td>NaN</td>\n",
       "      <td>terdakwa dipersidangan tidak didampingi oleh p...</td>\n",
       "      <td>telah mendengar tuntutan pidana dari penuntut ...</td>\n",
       "      <td>menimbang bahwa berdasarkan catatan penuntut u...</td>\n",
       "      <td>menimbang bahwa dalam persidangan telah dideng...</td>\n",
       "      <td>mengadili 1 menyatakan terdakwa ahmad al pak s...</td>\n",
       "      <td>demikian diputuskan pada hari senin tanggal 5 ...</td>\n",
       "      <td>menimbang bahwa berdasarkan keterangan saksi s...</td>\n",
       "      <td>NaN</td>\n",
       "    </tr>\n",
       "    <tr>\n",
       "      <th>4</th>\n",
       "      <td>pidana</td>\n",
       "      <td>hukum</td>\n",
       "      <td>00136d1554e18c63256deac42aad0c58</td>\n",
       "      <td>pidana-umum</td>\n",
       "      <td>210</td>\n",
       "      <td>pn-cirebon</td>\n",
       "      <td>jabar</td>\n",
       "      <td>berkekuatan-hukum-tetap</td>\n",
       "      <td>pencurian</td>\n",
       "      <td>https://putusan3.mahkamahagung.go.id/direktori...</td>\n",
       "      <td>...</td>\n",
       "      <td>1 nama lengkap muhamad rizki als rizki bin edi...</td>\n",
       "      <td>terdakwa ditangkap pada tanggal juli 2019\\nter...</td>\n",
       "      <td>terdakwa tidak didampingi penasihat hukum\\npen...</td>\n",
       "      <td>setelah mendengar pembacaan tuntutan pidana ya...</td>\n",
       "      <td>menimbang bahwa terdakwa diajukan ke persidang...</td>\n",
       "      <td>menimbang bahwa untuk membuktikan dakwaannya p...</td>\n",
       "      <td>mengadili\\n1 menyatakan terdakwa muhamad rizki...</td>\n",
       "      <td>demikian diputuskan dalam sidang permusyawarat...</td>\n",
       "      <td>menimbang bahwa berdasarkan alat bukti dan bar...</td>\n",
       "      <td>menimbang bahwa selanjutnya majelis hakim akan...</td>\n",
       "    </tr>\n",
       "  </tbody>\n",
       "</table>\n",
       "<p>5 rows × 21 columns</p>\n",
       "</div>"
      ],
      "text/plain": [
       "     amar                                       amar_lainnya  \\\n",
       "0  pidana                                              hukum   \n",
       "1  pidana                                              hukum   \n",
       "2  pidana  jatuh-pidana-oleh-karena-itu-kepada-dakwa-ir-b...   \n",
       "3  pidana                                              hukum   \n",
       "4  pidana                                              hukum   \n",
       "\n",
       "                                 id  klasifikasi  lama_hukuman  \\\n",
       "0  00035681c8d944203f25d2e8215ae2bf  pidana-umum           210   \n",
       "1  000399ce26773e18695ce14f519cb9e6  pidana-umum           720   \n",
       "2  0006582ad67cd9bd1ddf4261a09bf382  pidana-umum           120   \n",
       "3  00122b1be15a10ad474bb3b7ec0dea73  pidana-umum            90   \n",
       "4  00136d1554e18c63256deac42aad0c58  pidana-umum           210   \n",
       "\n",
       "  lembaga_peradilan provinsi                   status  \\\n",
       "0          pn-kudus   jateng  berkekuatan-hukum-tetap   \n",
       "1          pn-demak   jateng  berkekuatan-hukum-tetap   \n",
       "2         pn-kediri    jatim  berkekuatan-hukum-tetap   \n",
       "3        pn-sampang    jatim  berkekuatan-hukum-tetap   \n",
       "4        pn-cirebon    jabar  berkekuatan-hukum-tetap   \n",
       "\n",
       "                      sub_klasifikasi  \\\n",
       "0                           pemalsuan   \n",
       "1                           pencurian   \n",
       "2  kejahatan-terhadap-keamanan-negara   \n",
       "3                          penghinaan   \n",
       "4                           pencurian   \n",
       "\n",
       "                                                 url  ...  \\\n",
       "0  https://putusan3.mahkamahagung.go.id/direktori...  ...   \n",
       "1  https://putusan3.mahkamahagung.go.id/direktori...  ...   \n",
       "2  https://putusan3.mahkamahagung.go.id/direktori...  ...   \n",
       "3  https://putusan3.mahkamahagung.go.id/direktori...  ...   \n",
       "4  https://putusan3.mahkamahagung.go.id/direktori...  ...   \n",
       "\n",
       "                                           identitas  \\\n",
       "0  nama lengkap eny sulistiyaningsih binti mashad...   \n",
       "1  nama lengkap ali maftuhin bin nur salim tempat...   \n",
       "2  nama lengkap ir bambang sasongko bin r soewarn...   \n",
       "3  nama lengkap ahmad al pak saki tempat lahir sa...   \n",
       "4  1 nama lengkap muhamad rizki als rizki bin edi...   \n",
       "\n",
       "                                   riwayat_penahanan  \\\n",
       "0  terdakwa ditahan dengan jenis tahanan rutan se...   \n",
       "1  terdakwa ditahan di rumah tahanan negara berda...   \n",
       "2                             terdakwa tidak ditahan   \n",
       "3                                                NaN   \n",
       "4  terdakwa ditangkap pada tanggal juli 2019\\nter...   \n",
       "\n",
       "                                     riwayat_perkara  \\\n",
       "0  pengadilan negeri tersebut\\nsetelah membaca be...   \n",
       "1  pengadilan negeri tersebut\\nsetelah membaca\\np...   \n",
       "2  terdakwa didampingi oleh penasehat hukumnya ya...   \n",
       "3  terdakwa dipersidangan tidak didampingi oleh p...   \n",
       "4  terdakwa tidak didampingi penasihat hukum\\npen...   \n",
       "\n",
       "                                    riwayat_tuntutan  \\\n",
       "0  setelah mendengar tuntutan requsitoir penuntut...   \n",
       "1  setelah mendengar surat tuntutan pidana requis...   \n",
       "2  telah mendengar pembacaan tuntutan pidana oleh...   \n",
       "3  telah mendengar tuntutan pidana dari penuntut ...   \n",
       "4  setelah mendengar pembacaan tuntutan pidana ya...   \n",
       "\n",
       "                                     riwayat_dakwaan  \\\n",
       "0  menimbang bahwa terdakwa diajukan di persidang...   \n",
       "1  menimbang bahwa terdakwa didakwa oleh penuntut...   \n",
       "2  menimbang bahwa terdakwa diajukan di persidang...   \n",
       "3  menimbang bahwa berdasarkan catatan penuntut u...   \n",
       "4  menimbang bahwa terdakwa diajukan ke persidang...   \n",
       "\n",
       "                                               fakta  \\\n",
       "0  menimbang bahwa selanjutnya untuk membuktikan ...   \n",
       "1  menimbang bahwa untuk menguatkan dakwaan terse...   \n",
       "2  menimbang bahwa selanjutnya dipersidangan tela...   \n",
       "3  menimbang bahwa dalam persidangan telah dideng...   \n",
       "4  menimbang bahwa untuk membuktikan dakwaannya p...   \n",
       "\n",
       "                                        amar_putusan  \\\n",
       "0  mengadili 1 menyatakan terdakwa eny sulistiyan...   \n",
       "1  mengadili 1 menyatakan terdakwa ali maftuhin b...   \n",
       "2  mengadili\\n1 menyatakan terdakwa ir bambang sa...   \n",
       "3  mengadili 1 menyatakan terdakwa ahmad al pak s...   \n",
       "4  mengadili\\n1 menyatakan terdakwa muhamad rizki...   \n",
       "\n",
       "                                             penutup  \\\n",
       "0  demikian diputuskan dalam rapat permusyawarata...   \n",
       "1  demikianlah diputuskan dalam rapat permusyawar...   \n",
       "2  demikian diputuskan dalam rapat musyawarah maj...   \n",
       "3  demikian diputuskan pada hari senin tanggal 5 ...   \n",
       "4  demikian diputuskan dalam sidang permusyawarat...   \n",
       "\n",
       "                                         fakta_hukum  \\\n",
       "0                                                NaN   \n",
       "1  menimbang bahwa berdasarkan keterangan saksi s...   \n",
       "2                                                NaN   \n",
       "3  menimbang bahwa berdasarkan keterangan saksi s...   \n",
       "4  menimbang bahwa berdasarkan alat bukti dan bar...   \n",
       "\n",
       "                                  pertimbangan_hukum  \n",
       "0                                                NaN  \n",
       "1                                                NaN  \n",
       "2                                                NaN  \n",
       "3                                                NaN  \n",
       "4  menimbang bahwa selanjutnya majelis hakim akan...  \n",
       "\n",
       "[5 rows x 21 columns]"
      ]
     },
     "execution_count": 3,
     "metadata": {},
     "output_type": "execute_result"
    }
   ],
   "source": [
    "df_pidana_umum = pd.read_csv(\"../data/dataset_csv/dataset_pidana_umum.csv\")\n",
    "\n",
    "df_pidana_umum.head()"
   ]
  },
  {
   "cell_type": "code",
   "execution_count": 4,
   "metadata": {},
   "outputs": [
    {
     "name": "stdout",
     "output_type": "stream",
     "text": [
      "<class 'pandas.core.frame.DataFrame'>\n",
      "RangeIndex: 10729 entries, 0 to 10728\n",
      "Data columns (total 21 columns):\n",
      " #   Column              Non-Null Count  Dtype \n",
      "---  ------              --------------  ----- \n",
      " 0   amar                10729 non-null  object\n",
      " 1   amar_lainnya        10729 non-null  object\n",
      " 2   id                  10729 non-null  object\n",
      " 3   klasifikasi         10729 non-null  object\n",
      " 4   lama_hukuman        10729 non-null  int64 \n",
      " 5   lembaga_peradilan   10729 non-null  object\n",
      " 6   provinsi            10729 non-null  object\n",
      " 7   status              10729 non-null  object\n",
      " 8   sub_klasifikasi     10729 non-null  object\n",
      " 9   url                 10729 non-null  object\n",
      " 10  kepala_putusan      10727 non-null  object\n",
      " 11  identitas           9481 non-null   object\n",
      " 12  riwayat_penahanan   8830 non-null   object\n",
      " 13  riwayat_perkara     10630 non-null  object\n",
      " 14  riwayat_tuntutan    10228 non-null  object\n",
      " 15  riwayat_dakwaan     10577 non-null  object\n",
      " 16  fakta               10374 non-null  object\n",
      " 17  amar_putusan        10719 non-null  object\n",
      " 18  penutup             10523 non-null  object\n",
      " 19  fakta_hukum         4975 non-null   object\n",
      " 20  pertimbangan_hukum  4887 non-null   object\n",
      "dtypes: int64(1), object(20)\n",
      "memory usage: 1.7+ MB\n"
     ]
    }
   ],
   "source": [
    "df_pidana_umum.info()"
   ]
  },
  {
   "cell_type": "code",
   "execution_count": 5,
   "metadata": {},
   "outputs": [
    {
     "name": "stderr",
     "output_type": "stream",
     "text": [
      "C:\\Users\\ASUS\\AppData\\Local\\Temp\\ipykernel_14496\\12682325.py:9: SettingWithCopyWarning: \n",
      "A value is trying to be set on a copy of a slice from a DataFrame.\n",
      "Try using .loc[row_indexer,col_indexer] = value instead\n",
      "\n",
      "See the caveats in the documentation: https://pandas.pydata.org/pandas-docs/stable/user_guide/indexing.html#returning-a-view-versus-a-copy\n",
      "  dataset_cleaned['combined_text'] = dataset_cleaned[features].fillna('').agg(' '.join, axis=1)\n"
     ]
    }
   ],
   "source": [
    "# Select relevant features and target\n",
    "features = ['riwayat_perkara', 'riwayat_tuntutan', 'riwayat_dakwaan', 'fakta']\n",
    "target = 'sub_klasifikasi'  # Target column for \"pasal yang berlaku\"\n",
    "\n",
    "# Drop rows with missing target or all features empty\n",
    "dataset_cleaned = df_pidana_umum.dropna(subset=features + [target])\n",
    "\n",
    "# Combine textual features into a single column\n",
    "dataset_cleaned['combined_text'] = dataset_cleaned[features].fillna('').agg(' '.join, axis=1)"
   ]
  },
  {
   "cell_type": "code",
   "execution_count": 6,
   "metadata": {},
   "outputs": [],
   "source": [
    "# Prepare input (X) and output (y)\n",
    "X = dataset_cleaned['combined_text']\n",
    "y = dataset_cleaned[target]\n",
    "\n",
    "\n",
    "# Encode the target (pasal) into integer classes\n",
    "pasal_classes = y.unique()\n",
    "class_mapping = {label: idx for idx, label in enumerate(pasal_classes)}\n",
    "y_encoded = y.map(class_mapping)"
   ]
  },
  {
   "cell_type": "code",
   "execution_count": 7,
   "metadata": {},
   "outputs": [],
   "source": [
    "# Tokenization and padding\n",
    "max_words = 20000  # Increase the vocabulary size\n",
    "max_len = 300      # Increase the sequence length\n",
    "\n",
    "tokenizer = Tokenizer(num_words=max_words, oov_token=\"<OOV>\")\n",
    "tokenizer.fit_on_texts(X)\n",
    "X_seq = tokenizer.texts_to_sequences(X)\n",
    "X_padded = pad_sequences(X_seq, maxlen=max_len, padding='post', truncating='post')\n",
    "\n",
    "# Convert the target to categorical (one-hot encoding)\n",
    "y_categorical = to_categorical(y_encoded)"
   ]
  },
  {
   "cell_type": "code",
   "execution_count": 8,
   "metadata": {},
   "outputs": [],
   "source": [
    "# Train-test split\n",
    "X_train, X_test, y_train, y_test = train_test_split(X_padded, y_categorical, test_size=0.2, random_state=42)"
   ]
  },
  {
   "cell_type": "code",
   "execution_count": 9,
   "metadata": {},
   "outputs": [
    {
     "name": "stderr",
     "output_type": "stream",
     "text": [
      "c:\\Users\\ASUS\\.virtualenvs\\Machine_Learning-QtZ5HGmp\\lib\\site-packages\\keras\\src\\layers\\core\\embedding.py:90: UserWarning: Argument `input_length` is deprecated. Just remove it.\n",
      "  warnings.warn(\n"
     ]
    },
    {
     "data": {
      "text/html": [
       "<pre style=\"white-space:pre;overflow-x:auto;line-height:normal;font-family:Menlo,'DejaVu Sans Mono',consolas,'Courier New',monospace\"><span style=\"font-weight: bold\">Model: \"sequential\"</span>\n",
       "</pre>\n"
      ],
      "text/plain": [
       "\u001b[1mModel: \"sequential\"\u001b[0m\n"
      ]
     },
     "metadata": {},
     "output_type": "display_data"
    },
    {
     "data": {
      "text/html": [
       "<pre style=\"white-space:pre;overflow-x:auto;line-height:normal;font-family:Menlo,'DejaVu Sans Mono',consolas,'Courier New',monospace\">┏━━━━━━━━━━━━━━━━━━━━━━━━━━━━━━━━━┳━━━━━━━━━━━━━━━━━━━━━━━━┳━━━━━━━━━━━━━━━┓\n",
       "┃<span style=\"font-weight: bold\"> Layer (type)                    </span>┃<span style=\"font-weight: bold\"> Output Shape           </span>┃<span style=\"font-weight: bold\">       Param # </span>┃\n",
       "┡━━━━━━━━━━━━━━━━━━━━━━━━━━━━━━━━━╇━━━━━━━━━━━━━━━━━━━━━━━━╇━━━━━━━━━━━━━━━┩\n",
       "│ embedding (<span style=\"color: #0087ff; text-decoration-color: #0087ff\">Embedding</span>)           │ ?                      │   <span style=\"color: #00af00; text-decoration-color: #00af00\">0</span> (unbuilt) │\n",
       "├─────────────────────────────────┼────────────────────────┼───────────────┤\n",
       "│ conv1d (<span style=\"color: #0087ff; text-decoration-color: #0087ff\">Conv1D</span>)                 │ ?                      │   <span style=\"color: #00af00; text-decoration-color: #00af00\">0</span> (unbuilt) │\n",
       "├─────────────────────────────────┼────────────────────────┼───────────────┤\n",
       "│ max_pooling1d (<span style=\"color: #0087ff; text-decoration-color: #0087ff\">MaxPooling1D</span>)    │ ?                      │             <span style=\"color: #00af00; text-decoration-color: #00af00\">0</span> │\n",
       "├─────────────────────────────────┼────────────────────────┼───────────────┤\n",
       "│ dropout (<span style=\"color: #0087ff; text-decoration-color: #0087ff\">Dropout</span>)               │ ?                      │             <span style=\"color: #00af00; text-decoration-color: #00af00\">0</span> │\n",
       "├─────────────────────────────────┼────────────────────────┼───────────────┤\n",
       "│ batch_normalization             │ ?                      │   <span style=\"color: #00af00; text-decoration-color: #00af00\">0</span> (unbuilt) │\n",
       "│ (<span style=\"color: #0087ff; text-decoration-color: #0087ff\">BatchNormalization</span>)            │                        │               │\n",
       "├─────────────────────────────────┼────────────────────────┼───────────────┤\n",
       "│ conv1d_1 (<span style=\"color: #0087ff; text-decoration-color: #0087ff\">Conv1D</span>)               │ ?                      │   <span style=\"color: #00af00; text-decoration-color: #00af00\">0</span> (unbuilt) │\n",
       "├─────────────────────────────────┼────────────────────────┼───────────────┤\n",
       "│ max_pooling1d_1 (<span style=\"color: #0087ff; text-decoration-color: #0087ff\">MaxPooling1D</span>)  │ ?                      │             <span style=\"color: #00af00; text-decoration-color: #00af00\">0</span> │\n",
       "├─────────────────────────────────┼────────────────────────┼───────────────┤\n",
       "│ dropout_1 (<span style=\"color: #0087ff; text-decoration-color: #0087ff\">Dropout</span>)             │ ?                      │             <span style=\"color: #00af00; text-decoration-color: #00af00\">0</span> │\n",
       "├─────────────────────────────────┼────────────────────────┼───────────────┤\n",
       "│ batch_normalization_1           │ ?                      │   <span style=\"color: #00af00; text-decoration-color: #00af00\">0</span> (unbuilt) │\n",
       "│ (<span style=\"color: #0087ff; text-decoration-color: #0087ff\">BatchNormalization</span>)            │                        │               │\n",
       "├─────────────────────────────────┼────────────────────────┼───────────────┤\n",
       "│ lstm (<span style=\"color: #0087ff; text-decoration-color: #0087ff\">LSTM</span>)                     │ ?                      │   <span style=\"color: #00af00; text-decoration-color: #00af00\">0</span> (unbuilt) │\n",
       "├─────────────────────────────────┼────────────────────────┼───────────────┤\n",
       "│ dropout_2 (<span style=\"color: #0087ff; text-decoration-color: #0087ff\">Dropout</span>)             │ ?                      │             <span style=\"color: #00af00; text-decoration-color: #00af00\">0</span> │\n",
       "├─────────────────────────────────┼────────────────────────┼───────────────┤\n",
       "│ lstm_1 (<span style=\"color: #0087ff; text-decoration-color: #0087ff\">LSTM</span>)                   │ ?                      │   <span style=\"color: #00af00; text-decoration-color: #00af00\">0</span> (unbuilt) │\n",
       "├─────────────────────────────────┼────────────────────────┼───────────────┤\n",
       "│ dense (<span style=\"color: #0087ff; text-decoration-color: #0087ff\">Dense</span>)                   │ ?                      │   <span style=\"color: #00af00; text-decoration-color: #00af00\">0</span> (unbuilt) │\n",
       "├─────────────────────────────────┼────────────────────────┼───────────────┤\n",
       "│ dropout_3 (<span style=\"color: #0087ff; text-decoration-color: #0087ff\">Dropout</span>)             │ ?                      │             <span style=\"color: #00af00; text-decoration-color: #00af00\">0</span> │\n",
       "├─────────────────────────────────┼────────────────────────┼───────────────┤\n",
       "│ dense_1 (<span style=\"color: #0087ff; text-decoration-color: #0087ff\">Dense</span>)                 │ ?                      │   <span style=\"color: #00af00; text-decoration-color: #00af00\">0</span> (unbuilt) │\n",
       "└─────────────────────────────────┴────────────────────────┴───────────────┘\n",
       "</pre>\n"
      ],
      "text/plain": [
       "┏━━━━━━━━━━━━━━━━━━━━━━━━━━━━━━━━━┳━━━━━━━━━━━━━━━━━━━━━━━━┳━━━━━━━━━━━━━━━┓\n",
       "┃\u001b[1m \u001b[0m\u001b[1mLayer (type)                   \u001b[0m\u001b[1m \u001b[0m┃\u001b[1m \u001b[0m\u001b[1mOutput Shape          \u001b[0m\u001b[1m \u001b[0m┃\u001b[1m \u001b[0m\u001b[1m      Param #\u001b[0m\u001b[1m \u001b[0m┃\n",
       "┡━━━━━━━━━━━━━━━━━━━━━━━━━━━━━━━━━╇━━━━━━━━━━━━━━━━━━━━━━━━╇━━━━━━━━━━━━━━━┩\n",
       "│ embedding (\u001b[38;5;33mEmbedding\u001b[0m)           │ ?                      │   \u001b[38;5;34m0\u001b[0m (unbuilt) │\n",
       "├─────────────────────────────────┼────────────────────────┼───────────────┤\n",
       "│ conv1d (\u001b[38;5;33mConv1D\u001b[0m)                 │ ?                      │   \u001b[38;5;34m0\u001b[0m (unbuilt) │\n",
       "├─────────────────────────────────┼────────────────────────┼───────────────┤\n",
       "│ max_pooling1d (\u001b[38;5;33mMaxPooling1D\u001b[0m)    │ ?                      │             \u001b[38;5;34m0\u001b[0m │\n",
       "├─────────────────────────────────┼────────────────────────┼───────────────┤\n",
       "│ dropout (\u001b[38;5;33mDropout\u001b[0m)               │ ?                      │             \u001b[38;5;34m0\u001b[0m │\n",
       "├─────────────────────────────────┼────────────────────────┼───────────────┤\n",
       "│ batch_normalization             │ ?                      │   \u001b[38;5;34m0\u001b[0m (unbuilt) │\n",
       "│ (\u001b[38;5;33mBatchNormalization\u001b[0m)            │                        │               │\n",
       "├─────────────────────────────────┼────────────────────────┼───────────────┤\n",
       "│ conv1d_1 (\u001b[38;5;33mConv1D\u001b[0m)               │ ?                      │   \u001b[38;5;34m0\u001b[0m (unbuilt) │\n",
       "├─────────────────────────────────┼────────────────────────┼───────────────┤\n",
       "│ max_pooling1d_1 (\u001b[38;5;33mMaxPooling1D\u001b[0m)  │ ?                      │             \u001b[38;5;34m0\u001b[0m │\n",
       "├─────────────────────────────────┼────────────────────────┼───────────────┤\n",
       "│ dropout_1 (\u001b[38;5;33mDropout\u001b[0m)             │ ?                      │             \u001b[38;5;34m0\u001b[0m │\n",
       "├─────────────────────────────────┼────────────────────────┼───────────────┤\n",
       "│ batch_normalization_1           │ ?                      │   \u001b[38;5;34m0\u001b[0m (unbuilt) │\n",
       "│ (\u001b[38;5;33mBatchNormalization\u001b[0m)            │                        │               │\n",
       "├─────────────────────────────────┼────────────────────────┼───────────────┤\n",
       "│ lstm (\u001b[38;5;33mLSTM\u001b[0m)                     │ ?                      │   \u001b[38;5;34m0\u001b[0m (unbuilt) │\n",
       "├─────────────────────────────────┼────────────────────────┼───────────────┤\n",
       "│ dropout_2 (\u001b[38;5;33mDropout\u001b[0m)             │ ?                      │             \u001b[38;5;34m0\u001b[0m │\n",
       "├─────────────────────────────────┼────────────────────────┼───────────────┤\n",
       "│ lstm_1 (\u001b[38;5;33mLSTM\u001b[0m)                   │ ?                      │   \u001b[38;5;34m0\u001b[0m (unbuilt) │\n",
       "├─────────────────────────────────┼────────────────────────┼───────────────┤\n",
       "│ dense (\u001b[38;5;33mDense\u001b[0m)                   │ ?                      │   \u001b[38;5;34m0\u001b[0m (unbuilt) │\n",
       "├─────────────────────────────────┼────────────────────────┼───────────────┤\n",
       "│ dropout_3 (\u001b[38;5;33mDropout\u001b[0m)             │ ?                      │             \u001b[38;5;34m0\u001b[0m │\n",
       "├─────────────────────────────────┼────────────────────────┼───────────────┤\n",
       "│ dense_1 (\u001b[38;5;33mDense\u001b[0m)                 │ ?                      │   \u001b[38;5;34m0\u001b[0m (unbuilt) │\n",
       "└─────────────────────────────────┴────────────────────────┴───────────────┘\n"
      ]
     },
     "metadata": {},
     "output_type": "display_data"
    },
    {
     "data": {
      "text/html": [
       "<pre style=\"white-space:pre;overflow-x:auto;line-height:normal;font-family:Menlo,'DejaVu Sans Mono',consolas,'Courier New',monospace\"><span style=\"font-weight: bold\"> Total params: </span><span style=\"color: #00af00; text-decoration-color: #00af00\">0</span> (0.00 B)\n",
       "</pre>\n"
      ],
      "text/plain": [
       "\u001b[1m Total params: \u001b[0m\u001b[38;5;34m0\u001b[0m (0.00 B)\n"
      ]
     },
     "metadata": {},
     "output_type": "display_data"
    },
    {
     "data": {
      "text/html": [
       "<pre style=\"white-space:pre;overflow-x:auto;line-height:normal;font-family:Menlo,'DejaVu Sans Mono',consolas,'Courier New',monospace\"><span style=\"font-weight: bold\"> Trainable params: </span><span style=\"color: #00af00; text-decoration-color: #00af00\">0</span> (0.00 B)\n",
       "</pre>\n"
      ],
      "text/plain": [
       "\u001b[1m Trainable params: \u001b[0m\u001b[38;5;34m0\u001b[0m (0.00 B)\n"
      ]
     },
     "metadata": {},
     "output_type": "display_data"
    },
    {
     "data": {
      "text/html": [
       "<pre style=\"white-space:pre;overflow-x:auto;line-height:normal;font-family:Menlo,'DejaVu Sans Mono',consolas,'Courier New',monospace\"><span style=\"font-weight: bold\"> Non-trainable params: </span><span style=\"color: #00af00; text-decoration-color: #00af00\">0</span> (0.00 B)\n",
       "</pre>\n"
      ],
      "text/plain": [
       "\u001b[1m Non-trainable params: \u001b[0m\u001b[38;5;34m0\u001b[0m (0.00 B)\n"
      ]
     },
     "metadata": {},
     "output_type": "display_data"
    }
   ],
   "source": [
    "# Build the Sequential model\n",
    "model = Sequential([\n",
    "    Embedding(input_dim=max_words, output_dim=128, input_length=max_len),\n",
    "    Conv1D(filters=128, kernel_size=5, activation='relu'),\n",
    "    MaxPooling1D(pool_size=2),\n",
    "    Dropout(0.5),\n",
    "    BatchNormalization(),\n",
    "\n",
    "    Conv1D(filters=64, kernel_size=5, activation='relu'),\n",
    "    MaxPooling1D(pool_size=2),\n",
    "    Dropout(0.5),\n",
    "    BatchNormalization(),\n",
    "\n",
    "    LSTM(128, return_sequences=True),\n",
    "    Dropout(0.5),\n",
    "    LSTM(64, return_sequences=False),\n",
    "\n",
    "    Dense(64, activation='relu'),\n",
    "    Dropout(0.5),\n",
    "    Dense(len(pasal_classes), activation='softmax')  # Output layer for multi-class classification\n",
    "])\n",
    "\n",
    "model.summary()"
   ]
  },
  {
   "cell_type": "code",
   "execution_count": 10,
   "metadata": {},
   "outputs": [],
   "source": [
    "# Compile the model\n",
    "model.compile(optimizer='adam', loss='categorical_crossentropy', metrics=['accuracy'])"
   ]
  },
  {
   "cell_type": "code",
   "execution_count": 11,
   "metadata": {},
   "outputs": [
    {
     "name": "stdout",
     "output_type": "stream",
     "text": [
      "Epoch 1/10\n",
      "\u001b[1m124/124\u001b[0m \u001b[32m━━━━━━━━━━━━━━━━━━━━\u001b[0m\u001b[37m\u001b[0m \u001b[1m139s\u001b[0m 930ms/step - accuracy: 0.1779 - loss: 2.8221 - val_accuracy: 0.1741 - val_loss: 2.5944\n",
      "Epoch 2/10\n",
      "\u001b[1m124/124\u001b[0m \u001b[32m━━━━━━━━━━━━━━━━━━━━\u001b[0m\u001b[37m\u001b[0m \u001b[1m96s\u001b[0m 777ms/step - accuracy: 0.3939 - loss: 1.9799 - val_accuracy: 0.1431 - val_loss: 2.8106\n",
      "Epoch 3/10\n",
      "\u001b[1m124/124\u001b[0m \u001b[32m━━━━━━━━━━━━━━━━━━━━\u001b[0m\u001b[37m\u001b[0m \u001b[1m85s\u001b[0m 681ms/step - accuracy: 0.4552 - loss: 1.6616 - val_accuracy: 0.4284 - val_loss: 1.6624\n",
      "Epoch 4/10\n",
      "\u001b[1m124/124\u001b[0m \u001b[32m━━━━━━━━━━━━━━━━━━━━\u001b[0m\u001b[37m\u001b[0m \u001b[1m87s\u001b[0m 704ms/step - accuracy: 0.5111 - loss: 1.4502 - val_accuracy: 0.5061 - val_loss: 1.4094\n",
      "Epoch 5/10\n",
      "\u001b[1m124/124\u001b[0m \u001b[32m━━━━━━━━━━━━━━━━━━━━\u001b[0m\u001b[37m\u001b[0m \u001b[1m79s\u001b[0m 639ms/step - accuracy: 0.5666 - loss: 1.3257 - val_accuracy: 0.5523 - val_loss: 1.2870\n",
      "Epoch 6/10\n",
      "\u001b[1m124/124\u001b[0m \u001b[32m━━━━━━━━━━━━━━━━━━━━\u001b[0m\u001b[37m\u001b[0m \u001b[1m82s\u001b[0m 660ms/step - accuracy: 0.5978 - loss: 1.1950 - val_accuracy: 0.5614 - val_loss: 1.2720\n",
      "Epoch 7/10\n",
      "\u001b[1m124/124\u001b[0m \u001b[32m━━━━━━━━━━━━━━━━━━━━\u001b[0m\u001b[37m\u001b[0m \u001b[1m84s\u001b[0m 678ms/step - accuracy: 0.6351 - loss: 1.0872 - val_accuracy: 0.5777 - val_loss: 1.2565\n",
      "Epoch 8/10\n",
      "\u001b[1m124/124\u001b[0m \u001b[32m━━━━━━━━━━━━━━━━━━━━\u001b[0m\u001b[37m\u001b[0m \u001b[1m88s\u001b[0m 705ms/step - accuracy: 0.6758 - loss: 0.9926 - val_accuracy: 0.6076 - val_loss: 1.2128\n",
      "Epoch 9/10\n",
      "\u001b[1m124/124\u001b[0m \u001b[32m━━━━━━━━━━━━━━━━━━━━\u001b[0m\u001b[37m\u001b[0m \u001b[1m95s\u001b[0m 764ms/step - accuracy: 0.6789 - loss: 0.9841 - val_accuracy: 0.5985 - val_loss: 1.3386\n",
      "Epoch 10/10\n",
      "\u001b[1m124/124\u001b[0m \u001b[32m━━━━━━━━━━━━━━━━━━━━\u001b[0m\u001b[37m\u001b[0m \u001b[1m87s\u001b[0m 704ms/step - accuracy: 0.7310 - loss: 0.8296 - val_accuracy: 0.6223 - val_loss: 1.2506\n"
     ]
    }
   ],
   "source": [
    "# Train Model\n",
    "history = model.fit(X_train, y_train, validation_data=(X_test, y_test), epochs=10, batch_size=64)"
   ]
  },
  {
   "cell_type": "code",
   "execution_count": 12,
   "metadata": {},
   "outputs": [
    {
     "name": "stdout",
     "output_type": "stream",
     "text": [
      "\u001b[1m62/62\u001b[0m \u001b[32m━━━━━━━━━━━━━━━━━━━━\u001b[0m\u001b[37m\u001b[0m \u001b[1m7s\u001b[0m 109ms/step - accuracy: 0.6291 - loss: 1.2424\n",
      "Test Accuracy: 62.23%\n"
     ]
    }
   ],
   "source": [
    "# Evaluate the model\n",
    "loss, accuracy = model.evaluate(X_test, y_test)\n",
    "print(f\"Test Accuracy: {accuracy:.2%}\")"
   ]
  },
  {
   "cell_type": "code",
   "execution_count": 13,
   "metadata": {},
   "outputs": [],
   "source": [
    "# Predict on new cases\n",
    "def predict_pasal(input_text):\n",
    "    input_seq = tokenizer.texts_to_sequences([input_text])\n",
    "    input_padded = pad_sequences(input_seq, maxlen=max_len, padding='post', truncating='post')\n",
    "    prediction = model.predict(input_padded)\n",
    "    predicted_class = pasal_classes[prediction.argmax()]\n",
    "    return predicted_class"
   ]
  },
  {
   "cell_type": "code",
   "execution_count": 17,
   "metadata": {},
   "outputs": [
    {
     "name": "stdout",
     "output_type": "stream",
     "text": [
      "\u001b[1m1/1\u001b[0m \u001b[32m━━━━━━━━━━━━━━━━━━━━\u001b[0m\u001b[37m\u001b[0m \u001b[1m0s\u001b[0m 73ms/step\n",
      "Predicted Pasal: pemalsuan\n"
     ]
    }
   ],
   "source": [
    "# Example usage\n",
    "sample_case = \"Kasus pencurian\"\n",
    "predicted_pasal = predict_pasal(sample_case)\n",
    "print(f\"Predicted Pasal: {predicted_pasal}\")"
   ]
  }
 ],
 "metadata": {
  "kernelspec": {
   "display_name": "Machine_Learning-QtZ5HGmp",
   "language": "python",
   "name": "python3"
  },
  "language_info": {
   "codemirror_mode": {
    "name": "ipython",
    "version": 3
   },
   "file_extension": ".py",
   "mimetype": "text/x-python",
   "name": "python",
   "nbconvert_exporter": "python",
   "pygments_lexer": "ipython3",
   "version": "3.10.6"
  }
 },
 "nbformat": 4,
 "nbformat_minor": 2
}
