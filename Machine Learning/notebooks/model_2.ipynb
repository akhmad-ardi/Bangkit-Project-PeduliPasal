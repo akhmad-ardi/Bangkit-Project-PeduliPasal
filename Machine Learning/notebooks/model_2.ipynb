{
 "cells": [
  {
   "cell_type": "code",
   "execution_count": 1,
   "metadata": {
    "id": "To_FV2sBTHZt"
   },
   "outputs": [],
   "source": [
    "# !pip install pandas tensorflow scikit-learn transformers matplotlib nltk"
   ]
  },
  {
   "cell_type": "markdown",
   "metadata": {
    "id": "s0WS1DIjy9O4"
   },
   "source": [
    "### Import library"
   ]
  },
  {
   "cell_type": "code",
   "execution_count": null,
   "metadata": {
    "id": "FNULe2HXP4sx"
   },
   "outputs": [
    {
     "name": "stderr",
     "output_type": "stream",
     "text": [
      "c:\\Users\\Alief\\AppData\\Local\\Programs\\Python\\Python310\\lib\\site-packages\\tqdm\\auto.py:21: TqdmWarning: IProgress not found. Please update jupyter and ipywidgets. See https://ipywidgets.readthedocs.io/en/stable/user_install.html\n",
      "  from .autonotebook import tqdm as notebook_tqdm\n"
     ]
    }
   ],
   "source": [
    "import numpy as np\n",
    "import pandas as pd\n",
    "import tensorflow as tf\n",
    "import matplotlib.pyplot as plt\n",
    "from sklearn.model_selection import train_test_split\n",
    "from sklearn.preprocessing import LabelEncoder\n",
    "from transformers import AutoTokenizer, TFAutoModel\n",
    "from tensorflow.keras.callbacks import EarlyStopping"
   ]
  },
  {
   "cell_type": "code",
   "execution_count": null,
   "metadata": {
    "id": "cfXxzBu8U5I_"
   },
   "outputs": [
    {
     "name": "stderr",
     "output_type": "stream",
     "text": [
      "[nltk_data] Downloading package stopwords to\n",
      "[nltk_data]     C:\\Users\\Alief\\AppData\\Roaming\\nltk_data...\n",
      "[nltk_data]   Package stopwords is already up-to-date!\n",
      "[nltk_data] Downloading package punkt_tab to\n",
      "[nltk_data]     C:\\Users\\Alief\\AppData\\Roaming\\nltk_data...\n",
      "[nltk_data]   Package punkt_tab is already up-to-date!\n"
     ]
    },
    {
     "data": {
      "text/plain": [
       "True"
      ]
     },
     "execution_count": 3,
     "metadata": {},
     "output_type": "execute_result"
    }
   ],
   "source": [
    "import nltk\n",
    "from nltk.corpus import stopwords\n",
    "from nltk.stem import PorterStemmer\n",
    "\n",
    "nltk.download('stopwords')\n",
    "nltk.download('punkt_tab')"
   ]
  },
  {
   "cell_type": "code",
   "execution_count": 4,
   "metadata": {
    "id": "mjuYBbFhSFl0"
   },
   "outputs": [],
   "source": [
    "# if you use google colab, uncomment this code\n",
    "#from google.colab import drive\n",
    "#drive.mount('/content/drive')"
   ]
  },
  {
   "cell_type": "markdown",
   "metadata": {
    "id": "Rotsd36HW8q1"
   },
   "source": [
    "### Load dataset"
   ]
  },
  {
   "cell_type": "code",
   "execution_count": 5,
   "metadata": {
    "id": "Gdy17u3MP4s1"
   },
   "outputs": [],
   "source": [
    "# google colab\n",
    "# df_pidana_umum = pd.read_csv(\"drive/MyDrive/Colab Notebooks/Dataset_PeduliPasal/dataset_pidana_umum.csv\")\n",
    "# df_pidana_khusus = pd.read_csv(\"drive/MyDrive/Colab Notebooks/Dataset_PeduliPasal/dataset_pidana_khusus.csv\")\n",
    "\n",
    "# local computer\n",
    "df_pidana_umum = pd.read_csv(\"../data/dataset_csv/dataset_pidana_umum.csv\")\n",
    "df_pidana_khusus = pd.read_csv(\"../data/dataset_csv/dataset_pidana_khusus.csv\")\n",
    "\n",
    "df = pd.concat([df_pidana_umum, df_pidana_khusus], ignore_index=True)"
   ]
  },
  {
   "cell_type": "markdown",
   "metadata": {
    "id": "HBzDKWizVKzV"
   },
   "source": [
    "### EDA"
   ]
  },
  {
   "cell_type": "code",
   "execution_count": 6,
   "metadata": {
    "id": "lG6A0WIuT2qp"
   },
   "outputs": [
    {
     "data": {
      "text/html": [
       "<div>\n",
       "<style scoped>\n",
       "    .dataframe tbody tr th:only-of-type {\n",
       "        vertical-align: middle;\n",
       "    }\n",
       "\n",
       "    .dataframe tbody tr th {\n",
       "        vertical-align: top;\n",
       "    }\n",
       "\n",
       "    .dataframe thead th {\n",
       "        text-align: right;\n",
       "    }\n",
       "</style>\n",
       "<table border=\"1\" class=\"dataframe\">\n",
       "  <thead>\n",
       "    <tr style=\"text-align: right;\">\n",
       "      <th></th>\n",
       "      <th>amar</th>\n",
       "      <th>amar_lainnya</th>\n",
       "      <th>id</th>\n",
       "      <th>klasifikasi</th>\n",
       "      <th>lama_hukuman</th>\n",
       "      <th>lembaga_peradilan</th>\n",
       "      <th>provinsi</th>\n",
       "      <th>status</th>\n",
       "      <th>sub_klasifikasi</th>\n",
       "      <th>url</th>\n",
       "      <th>...</th>\n",
       "      <th>identitas</th>\n",
       "      <th>riwayat_penahanan</th>\n",
       "      <th>riwayat_perkara</th>\n",
       "      <th>riwayat_tuntutan</th>\n",
       "      <th>riwayat_dakwaan</th>\n",
       "      <th>fakta</th>\n",
       "      <th>amar_putusan</th>\n",
       "      <th>penutup</th>\n",
       "      <th>fakta_hukum</th>\n",
       "      <th>pertimbangan_hukum</th>\n",
       "    </tr>\n",
       "  </thead>\n",
       "  <tbody>\n",
       "    <tr>\n",
       "      <th>0</th>\n",
       "      <td>pidana</td>\n",
       "      <td>hukum</td>\n",
       "      <td>00035681c8d944203f25d2e8215ae2bf</td>\n",
       "      <td>pidana-umum</td>\n",
       "      <td>210</td>\n",
       "      <td>pn-kudus</td>\n",
       "      <td>jateng</td>\n",
       "      <td>berkekuatan-hukum-tetap</td>\n",
       "      <td>pemalsuan</td>\n",
       "      <td>https://putusan3.mahkamahagung.go.id/direktori...</td>\n",
       "      <td>...</td>\n",
       "      <td>nama lengkap eny sulistiyaningsih binti mashad...</td>\n",
       "      <td>terdakwa ditahan dengan jenis tahanan rutan se...</td>\n",
       "      <td>pengadilan negeri tersebut\\nsetelah membaca be...</td>\n",
       "      <td>setelah mendengar tuntutan requsitoir penuntut...</td>\n",
       "      <td>menimbang bahwa terdakwa diajukan di persidang...</td>\n",
       "      <td>menimbang bahwa selanjutnya untuk membuktikan ...</td>\n",
       "      <td>mengadili 1 menyatakan terdakwa eny sulistiyan...</td>\n",
       "      <td>demikian diputuskan dalam rapat permusyawarata...</td>\n",
       "      <td>NaN</td>\n",
       "      <td>NaN</td>\n",
       "    </tr>\n",
       "    <tr>\n",
       "      <th>1</th>\n",
       "      <td>pidana</td>\n",
       "      <td>hukum</td>\n",
       "      <td>000399ce26773e18695ce14f519cb9e6</td>\n",
       "      <td>pidana-umum</td>\n",
       "      <td>720</td>\n",
       "      <td>pn-demak</td>\n",
       "      <td>jateng</td>\n",
       "      <td>berkekuatan-hukum-tetap</td>\n",
       "      <td>pencurian</td>\n",
       "      <td>https://putusan3.mahkamahagung.go.id/direktori...</td>\n",
       "      <td>...</td>\n",
       "      <td>nama lengkap ali maftuhin bin nur salim tempat...</td>\n",
       "      <td>terdakwa ditahan di rumah tahanan negara berda...</td>\n",
       "      <td>pengadilan negeri tersebut\\nsetelah membaca\\np...</td>\n",
       "      <td>setelah mendengar surat tuntutan pidana requis...</td>\n",
       "      <td>menimbang bahwa terdakwa didakwa oleh penuntut...</td>\n",
       "      <td>menimbang bahwa untuk menguatkan dakwaan terse...</td>\n",
       "      <td>mengadili 1 menyatakan terdakwa ali maftuhin b...</td>\n",
       "      <td>demikianlah diputuskan dalam rapat permusyawar...</td>\n",
       "      <td>menimbang bahwa berdasarkan keterangan saksi s...</td>\n",
       "      <td>NaN</td>\n",
       "    </tr>\n",
       "    <tr>\n",
       "      <th>2</th>\n",
       "      <td>pidana</td>\n",
       "      <td>jatuh-pidana-oleh-karena-itu-kepada-dakwa-ir-b...</td>\n",
       "      <td>0006582ad67cd9bd1ddf4261a09bf382</td>\n",
       "      <td>pidana-umum</td>\n",
       "      <td>120</td>\n",
       "      <td>pn-kediri</td>\n",
       "      <td>jatim</td>\n",
       "      <td>berkekuatan-hukum-tetap</td>\n",
       "      <td>kejahatan-terhadap-keamanan-negara</td>\n",
       "      <td>https://putusan3.mahkamahagung.go.id/direktori...</td>\n",
       "      <td>...</td>\n",
       "      <td>nama lengkap ir bambang sasongko bin r soewarn...</td>\n",
       "      <td>terdakwa tidak ditahan</td>\n",
       "      <td>terdakwa didampingi oleh penasehat hukumnya ya...</td>\n",
       "      <td>telah mendengar pembacaan tuntutan pidana oleh...</td>\n",
       "      <td>menimbang bahwa terdakwa diajukan di persidang...</td>\n",
       "      <td>menimbang bahwa selanjutnya dipersidangan tela...</td>\n",
       "      <td>mengadili\\n1 menyatakan terdakwa ir bambang sa...</td>\n",
       "      <td>demikian diputuskan dalam rapat musyawarah maj...</td>\n",
       "      <td>NaN</td>\n",
       "      <td>NaN</td>\n",
       "    </tr>\n",
       "    <tr>\n",
       "      <th>3</th>\n",
       "      <td>pidana</td>\n",
       "      <td>hukum</td>\n",
       "      <td>00122b1be15a10ad474bb3b7ec0dea73</td>\n",
       "      <td>pidana-umum</td>\n",
       "      <td>90</td>\n",
       "      <td>pn-sampang</td>\n",
       "      <td>jatim</td>\n",
       "      <td>berkekuatan-hukum-tetap</td>\n",
       "      <td>penghinaan</td>\n",
       "      <td>https://putusan3.mahkamahagung.go.id/direktori...</td>\n",
       "      <td>...</td>\n",
       "      <td>nama lengkap ahmad al pak saki tempat lahir sa...</td>\n",
       "      <td>NaN</td>\n",
       "      <td>terdakwa dipersidangan tidak didampingi oleh p...</td>\n",
       "      <td>telah mendengar tuntutan pidana dari penuntut ...</td>\n",
       "      <td>menimbang bahwa berdasarkan catatan penuntut u...</td>\n",
       "      <td>menimbang bahwa dalam persidangan telah dideng...</td>\n",
       "      <td>mengadili 1 menyatakan terdakwa ahmad al pak s...</td>\n",
       "      <td>demikian diputuskan pada hari senin tanggal 5 ...</td>\n",
       "      <td>menimbang bahwa berdasarkan keterangan saksi s...</td>\n",
       "      <td>NaN</td>\n",
       "    </tr>\n",
       "    <tr>\n",
       "      <th>4</th>\n",
       "      <td>pidana</td>\n",
       "      <td>hukum</td>\n",
       "      <td>00136d1554e18c63256deac42aad0c58</td>\n",
       "      <td>pidana-umum</td>\n",
       "      <td>210</td>\n",
       "      <td>pn-cirebon</td>\n",
       "      <td>jabar</td>\n",
       "      <td>berkekuatan-hukum-tetap</td>\n",
       "      <td>pencurian</td>\n",
       "      <td>https://putusan3.mahkamahagung.go.id/direktori...</td>\n",
       "      <td>...</td>\n",
       "      <td>1 nama lengkap muhamad rizki als rizki bin edi...</td>\n",
       "      <td>terdakwa ditangkap pada tanggal juli 2019\\nter...</td>\n",
       "      <td>terdakwa tidak didampingi penasihat hukum\\npen...</td>\n",
       "      <td>setelah mendengar pembacaan tuntutan pidana ya...</td>\n",
       "      <td>menimbang bahwa terdakwa diajukan ke persidang...</td>\n",
       "      <td>menimbang bahwa untuk membuktikan dakwaannya p...</td>\n",
       "      <td>mengadili\\n1 menyatakan terdakwa muhamad rizki...</td>\n",
       "      <td>demikian diputuskan dalam sidang permusyawarat...</td>\n",
       "      <td>menimbang bahwa berdasarkan alat bukti dan bar...</td>\n",
       "      <td>menimbang bahwa selanjutnya majelis hakim akan...</td>\n",
       "    </tr>\n",
       "  </tbody>\n",
       "</table>\n",
       "<p>5 rows × 21 columns</p>\n",
       "</div>"
      ],
      "text/plain": [
       "     amar                                       amar_lainnya  \\\n",
       "0  pidana                                              hukum   \n",
       "1  pidana                                              hukum   \n",
       "2  pidana  jatuh-pidana-oleh-karena-itu-kepada-dakwa-ir-b...   \n",
       "3  pidana                                              hukum   \n",
       "4  pidana                                              hukum   \n",
       "\n",
       "                                 id  klasifikasi  lama_hukuman  \\\n",
       "0  00035681c8d944203f25d2e8215ae2bf  pidana-umum           210   \n",
       "1  000399ce26773e18695ce14f519cb9e6  pidana-umum           720   \n",
       "2  0006582ad67cd9bd1ddf4261a09bf382  pidana-umum           120   \n",
       "3  00122b1be15a10ad474bb3b7ec0dea73  pidana-umum            90   \n",
       "4  00136d1554e18c63256deac42aad0c58  pidana-umum           210   \n",
       "\n",
       "  lembaga_peradilan provinsi                   status  \\\n",
       "0          pn-kudus   jateng  berkekuatan-hukum-tetap   \n",
       "1          pn-demak   jateng  berkekuatan-hukum-tetap   \n",
       "2         pn-kediri    jatim  berkekuatan-hukum-tetap   \n",
       "3        pn-sampang    jatim  berkekuatan-hukum-tetap   \n",
       "4        pn-cirebon    jabar  berkekuatan-hukum-tetap   \n",
       "\n",
       "                      sub_klasifikasi  \\\n",
       "0                           pemalsuan   \n",
       "1                           pencurian   \n",
       "2  kejahatan-terhadap-keamanan-negara   \n",
       "3                          penghinaan   \n",
       "4                           pencurian   \n",
       "\n",
       "                                                 url  ...  \\\n",
       "0  https://putusan3.mahkamahagung.go.id/direktori...  ...   \n",
       "1  https://putusan3.mahkamahagung.go.id/direktori...  ...   \n",
       "2  https://putusan3.mahkamahagung.go.id/direktori...  ...   \n",
       "3  https://putusan3.mahkamahagung.go.id/direktori...  ...   \n",
       "4  https://putusan3.mahkamahagung.go.id/direktori...  ...   \n",
       "\n",
       "                                           identitas  \\\n",
       "0  nama lengkap eny sulistiyaningsih binti mashad...   \n",
       "1  nama lengkap ali maftuhin bin nur salim tempat...   \n",
       "2  nama lengkap ir bambang sasongko bin r soewarn...   \n",
       "3  nama lengkap ahmad al pak saki tempat lahir sa...   \n",
       "4  1 nama lengkap muhamad rizki als rizki bin edi...   \n",
       "\n",
       "                                   riwayat_penahanan  \\\n",
       "0  terdakwa ditahan dengan jenis tahanan rutan se...   \n",
       "1  terdakwa ditahan di rumah tahanan negara berda...   \n",
       "2                             terdakwa tidak ditahan   \n",
       "3                                                NaN   \n",
       "4  terdakwa ditangkap pada tanggal juli 2019\\nter...   \n",
       "\n",
       "                                     riwayat_perkara  \\\n",
       "0  pengadilan negeri tersebut\\nsetelah membaca be...   \n",
       "1  pengadilan negeri tersebut\\nsetelah membaca\\np...   \n",
       "2  terdakwa didampingi oleh penasehat hukumnya ya...   \n",
       "3  terdakwa dipersidangan tidak didampingi oleh p...   \n",
       "4  terdakwa tidak didampingi penasihat hukum\\npen...   \n",
       "\n",
       "                                    riwayat_tuntutan  \\\n",
       "0  setelah mendengar tuntutan requsitoir penuntut...   \n",
       "1  setelah mendengar surat tuntutan pidana requis...   \n",
       "2  telah mendengar pembacaan tuntutan pidana oleh...   \n",
       "3  telah mendengar tuntutan pidana dari penuntut ...   \n",
       "4  setelah mendengar pembacaan tuntutan pidana ya...   \n",
       "\n",
       "                                     riwayat_dakwaan  \\\n",
       "0  menimbang bahwa terdakwa diajukan di persidang...   \n",
       "1  menimbang bahwa terdakwa didakwa oleh penuntut...   \n",
       "2  menimbang bahwa terdakwa diajukan di persidang...   \n",
       "3  menimbang bahwa berdasarkan catatan penuntut u...   \n",
       "4  menimbang bahwa terdakwa diajukan ke persidang...   \n",
       "\n",
       "                                               fakta  \\\n",
       "0  menimbang bahwa selanjutnya untuk membuktikan ...   \n",
       "1  menimbang bahwa untuk menguatkan dakwaan terse...   \n",
       "2  menimbang bahwa selanjutnya dipersidangan tela...   \n",
       "3  menimbang bahwa dalam persidangan telah dideng...   \n",
       "4  menimbang bahwa untuk membuktikan dakwaannya p...   \n",
       "\n",
       "                                        amar_putusan  \\\n",
       "0  mengadili 1 menyatakan terdakwa eny sulistiyan...   \n",
       "1  mengadili 1 menyatakan terdakwa ali maftuhin b...   \n",
       "2  mengadili\\n1 menyatakan terdakwa ir bambang sa...   \n",
       "3  mengadili 1 menyatakan terdakwa ahmad al pak s...   \n",
       "4  mengadili\\n1 menyatakan terdakwa muhamad rizki...   \n",
       "\n",
       "                                             penutup  \\\n",
       "0  demikian diputuskan dalam rapat permusyawarata...   \n",
       "1  demikianlah diputuskan dalam rapat permusyawar...   \n",
       "2  demikian diputuskan dalam rapat musyawarah maj...   \n",
       "3  demikian diputuskan pada hari senin tanggal 5 ...   \n",
       "4  demikian diputuskan dalam sidang permusyawarat...   \n",
       "\n",
       "                                         fakta_hukum  \\\n",
       "0                                                NaN   \n",
       "1  menimbang bahwa berdasarkan keterangan saksi s...   \n",
       "2                                                NaN   \n",
       "3  menimbang bahwa berdasarkan keterangan saksi s...   \n",
       "4  menimbang bahwa berdasarkan alat bukti dan bar...   \n",
       "\n",
       "                                  pertimbangan_hukum  \n",
       "0                                                NaN  \n",
       "1                                                NaN  \n",
       "2                                                NaN  \n",
       "3                                                NaN  \n",
       "4  menimbang bahwa selanjutnya majelis hakim akan...  \n",
       "\n",
       "[5 rows x 21 columns]"
      ]
     },
     "execution_count": 6,
     "metadata": {},
     "output_type": "execute_result"
    }
   ],
   "source": [
    "df.head()"
   ]
  },
  {
   "cell_type": "code",
   "execution_count": 7,
   "metadata": {
    "id": "qDWjw9xqT47w"
   },
   "outputs": [
    {
     "name": "stdout",
     "output_type": "stream",
     "text": [
      "<class 'pandas.core.frame.DataFrame'>\n",
      "RangeIndex: 22630 entries, 0 to 22629\n",
      "Data columns (total 21 columns):\n",
      " #   Column              Non-Null Count  Dtype \n",
      "---  ------              --------------  ----- \n",
      " 0   amar                22630 non-null  object\n",
      " 1   amar_lainnya        22630 non-null  object\n",
      " 2   id                  22630 non-null  object\n",
      " 3   klasifikasi         22630 non-null  object\n",
      " 4   lama_hukuman        22630 non-null  int64 \n",
      " 5   lembaga_peradilan   22630 non-null  object\n",
      " 6   provinsi            22630 non-null  object\n",
      " 7   status              22630 non-null  object\n",
      " 8   sub_klasifikasi     22630 non-null  object\n",
      " 9   url                 22630 non-null  object\n",
      " 10  kepala_putusan      22628 non-null  object\n",
      " 11  identitas           19749 non-null  object\n",
      " 12  riwayat_penahanan   18644 non-null  object\n",
      " 13  riwayat_perkara     22369 non-null  object\n",
      " 14  riwayat_tuntutan    21667 non-null  object\n",
      " 15  riwayat_dakwaan     22297 non-null  object\n",
      " 16  fakta               21827 non-null  object\n",
      " 17  amar_putusan        22617 non-null  object\n",
      " 18  penutup             22194 non-null  object\n",
      " 19  fakta_hukum         10616 non-null  object\n",
      " 20  pertimbangan_hukum  10730 non-null  object\n",
      "dtypes: int64(1), object(20)\n",
      "memory usage: 3.6+ MB\n"
     ]
    },
    {
     "data": {
      "text/plain": [
       "(None,\n",
       " amar                  22630\n",
       " amar_lainnya          22630\n",
       " id                    22630\n",
       " klasifikasi           22630\n",
       " lama_hukuman          22630\n",
       " lembaga_peradilan     22630\n",
       " provinsi              22630\n",
       " status                22630\n",
       " sub_klasifikasi       22630\n",
       " url                   22630\n",
       " kepala_putusan        22628\n",
       " identitas             19749\n",
       " riwayat_penahanan     18644\n",
       " riwayat_perkara       22369\n",
       " riwayat_tuntutan      21667\n",
       " riwayat_dakwaan       22297\n",
       " fakta                 21827\n",
       " amar_putusan          22617\n",
       " penutup               22194\n",
       " fakta_hukum           10616\n",
       " pertimbangan_hukum    10730\n",
       " dtype: int64)"
      ]
     },
     "execution_count": 7,
     "metadata": {},
     "output_type": "execute_result"
    }
   ],
   "source": [
    "df.info(),df.count()"
   ]
  },
  {
   "cell_type": "code",
   "execution_count": 8,
   "metadata": {
    "id": "99N9b_yBVJJu"
   },
   "outputs": [],
   "source": [
    "# Clearning data\n",
    "# Features and label\n",
    "features = ['riwayat_dakwaan', 'amar_putusan', 'fakta']\n",
    "label = 'sub_klasifikasi'\n",
    "\n",
    "# Drop miss value\n",
    "df = df.dropna(subset=features + [label])"
   ]
  },
  {
   "cell_type": "markdown",
   "metadata": {
    "id": "Ef6vnU8LXMBj"
   },
   "source": [
    "### Preprocessing data"
   ]
  },
  {
   "cell_type": "code",
   "execution_count": 9,
   "metadata": {
    "id": "vU17a_usP4s5"
   },
   "outputs": [
    {
     "name": "stdout",
     "output_type": "stream",
     "text": [
      "Encoded Labels: [28 37 11 ... 25  0 25]\n",
      "Number of Classes: 64\n"
     ]
    }
   ],
   "source": [
    "# Define the Fetures and label\n",
    "X = df[features].fillna('').agg(' '.join, axis=1)\n",
    "y = df[label]\n",
    "\n",
    "#\n",
    "sub_classification = y.unique()\n",
    "\n",
    "# Encode Label\n",
    "label_encoder = LabelEncoder()\n",
    "labels_encoded = label_encoder.fit_transform(y)\n",
    "num_classes = len(label_encoder.classes_)\n",
    "\n",
    "print(\"Encoded Labels:\", labels_encoded)\n",
    "print(\"Number of Classes:\", num_classes)"
   ]
  },
  {
   "cell_type": "code",
   "execution_count": 10,
   "metadata": {
    "id": "xgsdYIkWoev7"
   },
   "outputs": [],
   "source": [
    "# save the label\n",
    "df_sub_classification = pd.DataFrame(sub_classification)\n",
    "\n",
    "# if you use local computer\n",
    "df_sub_classification.to_csv(\"../data/dataset_csv/data_classfication.csv\", index=False)\n",
    "\n",
    "# if you use google colab\n",
    "# df_sub_classification.to_csv(\"drive/MyDrive/Colab Notebooks/Dataset_PeduliPasal/data_classfication.csv\", index=False)"
   ]
  },
  {
   "cell_type": "code",
   "execution_count": 11,
   "metadata": {
    "id": "ZaLGcXkPQUZd"
   },
   "outputs": [
    {
     "name": "stderr",
     "output_type": "stream",
     "text": [
      "c:\\Users\\Alief\\AppData\\Local\\Programs\\Python\\Python310\\lib\\site-packages\\huggingface_hub\\file_download.py:139: UserWarning: `huggingface_hub` cache-system uses symlinks by default to efficiently store duplicated files but your machine does not support them in C:\\Users\\Alief\\.cache\\huggingface\\hub\\models--indolem--indobert-base-uncased. Caching files will still work but in a degraded version that might require more space on your disk. This warning can be disabled by setting the `HF_HUB_DISABLE_SYMLINKS_WARNING` environment variable. For more details, see https://huggingface.co/docs/huggingface_hub/how-to-cache#limitations.\n",
      "To support symlinks on Windows, you either need to activate Developer Mode or to run Python as an administrator. In order to activate developer mode, see this article: https://docs.microsoft.com/en-us/windows/apps/get-started/enable-your-device-for-development\n",
      "  warnings.warn(message)\n",
      "Some weights of the PyTorch model were not used when initializing the TF 2.0 model TFBertModel: ['cls.predictions.transform.dense.weight', 'cls.predictions.decoder.bias', 'cls.predictions.transform.LayerNorm.weight', 'cls.predictions.decoder.weight', 'cls.predictions.transform.LayerNorm.bias', 'cls.predictions.transform.dense.bias', 'cls.predictions.bias']\n",
      "- This IS expected if you are initializing TFBertModel from a PyTorch model trained on another task or with another architecture (e.g. initializing a TFBertForSequenceClassification model from a BertForPreTraining model).\n",
      "- This IS NOT expected if you are initializing TFBertModel from a PyTorch model that you expect to be exactly identical (e.g. initializing a TFBertForSequenceClassification model from a BertForSequenceClassification model).\n",
      "All the weights of TFBertModel were initialized from the PyTorch model.\n",
      "If your task is similar to the task the model of the checkpoint was trained on, you can already use TFBertModel for predictions without further training.\n"
     ]
    }
   ],
   "source": [
    "MODEL_NAME = \"indolem/indobert-base-uncased\"\n",
    "tokenizer = AutoTokenizer.from_pretrained(MODEL_NAME)\n",
    "pre_trained_model = TFAutoModel.from_pretrained(MODEL_NAME, from_pt=True)"
   ]
  },
  {
   "cell_type": "markdown",
   "metadata": {
    "id": "iAbJd-OgdDvX"
   },
   "source": [
    "#### Define function for normalize text"
   ]
  },
  {
   "cell_type": "code",
   "execution_count": 12,
   "metadata": {
    "id": "iYWfT2B5P4s7"
   },
   "outputs": [],
   "source": [
    "stop_words = set(stopwords.words('indonesian'))\n",
    "\n",
    "porter = PorterStemmer()\n",
    "\n",
    "MAX_LENGTH = 128\n",
    "\n",
    "def normalize_text(text):\n",
    "  tokens = tokenizer.tokenize(text)\n",
    "  tokens = [token.lower() for token in tokens]\n",
    "  tokens = [token for token in tokens if token not in stop_words]\n",
    "  tokens = [porter.stem(token) for token in tokens]\n",
    "  return ' '.join(tokens)\n",
    "\n",
    "def encode_texts(texts, tokenizer, max_length=MAX_LENGTH):\n",
    "  return tokenizer(\n",
    "    texts,\n",
    "    max_length=MAX_LENGTH,\n",
    "    padding=\"max_length\",\n",
    "    truncation=True\n",
    "  )"
   ]
  },
  {
   "cell_type": "markdown",
   "metadata": {
    "id": "lY-L2no-f5xU"
   },
   "source": [
    "#### Test function normalize text and encoded texts"
   ]
  },
  {
   "cell_type": "code",
   "execution_count": 13,
   "metadata": {
    "id": "_eEiU_XCeJGa"
   },
   "outputs": [
    {
     "name": "stdout",
     "output_type": "stream",
     "text": [
      "Normalize data: menimbang terdakwa diajukan persidangan didakwa tindak pidana dakwaan penuntut ke ##atu terdakwa en ##i suli ##ti ##yani ##ng ##sih binti mash ##adi rabu tanggal 04 septemb 2013 sekira jam 15 00 wib setidak tidaknya septemb 2013 bertempat kantor kud mint ##orogo cabang mej ##obo desa tengg ##ele rt 05 rw 04 kecamatan mej ##obo kabupaten kudu daerah hukum pengadilan negeri kudu berwenang memeriksa mengadili perkara ##nya surat palsu memalsukan surat menerbitkan hak perjanjian kewajiban perbuatan maksud menyuruh orang surat surat olah surat asli palsu ##kan ##nya kerugian perbuatan terdakwa senin tanggal 02 septemb 2013 sekira jam 13 00 wib terdakwa saksi ak ##mal ##ia kasi ##r kud min jati ##ro ##go cabang pembantu mej ##obo menyerahkan 1 lembar bil ##yet sim ##ka anggota kud mint ##orogo unit simpan pinjam no sim ##ka 41 03 ##0 00 ##14 ##8 00 tanggal 4 septemb 2012 nama sri ku ##tina ##h alamat ds mla ##ti lor no 40 ##1 a rt 05 rw ii kec kota kab kudu simpanan rp 20 000 000 puluh juta rupiah tanda tangannya 1 lembar slip bukti penarikan kud mint ##orogo nama sri ku ##tina ##h alamat ds mla ##ti lor no 40 ##1 a rt 05 rw ii kec kota kab kudu rp 20 000 000 tanda tangani nasabah ##nya terdakwa bilang saksi ak ##mal ##ia saksi sri ku ##tina ##h pencairan deposito ##nya surat surat dokumen saksi ak ##mal ##ia terima saksi bi ##yet sim ##ka anggota nasabah jatuh tempo ##nya habi tanggal 04 septemb 2013 saksi ak ##mal ##ia percaya terdakwa en ##i suli ##ti ##yani ##ng ##sih penarikan dana nasabah saksi ak ##mal ##ia prose sesuai prosedur uang saksi ak ##mal ##ia cair ##kan sesuai jatuh tempo ##nya diata saksi ak ##mal ##ia mencairkan bil ##yet sim ##ka anggota kud mint ##orogo unit simpan pinjam no sim ##ka 41 03 ##0 00 ##14 ##8 00 tanggal 4 septemb 2012 nama sri ku ##tina ##h alamat ds mla ##ti lor no 40 ##1 a rt 05 rw ii kec kota kab kudu uang rp 20 000 000 puluh juta rupiah milik nasabah nama saksi sri ku ##tina ##h saksi ak ##mal ##ia serahkan terdakwa terdakwa mengakui menuli menandatangani slip penarikan menandatangani stem ##pel bil ##yet sim k bukti deposit nama nasabah saksi sri ku ##tina ##h selasa tanggal 03 septemb 2013 terdakwa mengambil slip penarikan terdakwa tuli sesuai identita bil ##yet sim k bukti deposit nama nasabah saksi sri ku ##tina ##h rp 20 000 000 puluh juta rupiah berdasarkan berita acara pemeriksaan labor ##ator ##i krimin ##istik nomor lab 150 dt ##f iii 2014 tanggal 25 februari 2014 uraian diata kesimpulan 3 buah tanda tangan bukti sri ku ##tina ##h q ##t non identik tanda tangan pemb ##and sri ku ##tina ##h kt tanda tangan nama sri ku ##tina ##h bukti dokumen bukti nomor bb 52 ##7 2014 dt ##f bb 52 ##8 2014 1 lembar sim ##ka anggota no kc ##u 00 ##20 ##9 ##28 unit simpan pinjam kud mint ##orogo nama sri ku ##tina ##h senilai rp 20 000 000 puluh juta rupiah tertangg 4 septemb 2012 1 lembar bukti penarikan no 205 ##6 ##1 unit simpan pinjam kud mint ##orogo nama sri ku ##tina ##h senilai rp 20 000 000 puluh juta rupiah tertangg 4 9 13 tanda tangan sri ku ##tina ##h pemb ##and tanda tangan berbeda akibat perbuatan terdakwa mengakibatkan kud min jati ##ro ##go cabang pembantu mej ##obo menderita kerugian perbuatan terdakwa diatur diancam pidana pasal 26 ##3 ayat 1 kuhp terdakwa en ##i suli ##ti ##yani ##ng ##sih binti mash ##adi rabu tanggal 04 septemb 2013 sekira jam 15 00 wib setidak tidaknya septemb 2013 bertempat kantor kud mint ##orogo cabang mej ##obo desa tengg ##ele rt 05 rw 04 kecamatan mej ##obo kabupaten kudu daerah hukum pengadilan negeri kudu berwenang memeriksa mengadili perkara ##nya sengaja memiliki melawan hukum barang kepunyaan orang barang tangannya kejahatan terdakwa penguasaan ##ya barang disebabkan hubungan kerja pencari aan y upah perbuatan terdakwa kantor kud mint ##orogo cabang mej ##obo 2007 05 juni 2013 kasi ##r diganti saksi ak ##mal ##ia terdakwa pindah ap ##h administrasi pinjaman hukum kud mint ##orogo cabang mej ##obo terdakwa kasi ##r tanggung mencari nasabah menabung pinjam kri ##di ##t mencairkan dana nasabah nasabah mencairkan dananya dana terdakwa cair ##kan disp ##osisi kantor kud mint ##orogo cabang und ##aan kud pusat rekomendasi terdakwa kasi ##r mencairkan dana terdakwa kasi ##r kud mint ##orogo cabang mej ##obo bulannya aktif kerum ##ah nasabah nasabah salah satunya rumah saksi sri ku ##tina ##h terdakwa ap ##h administrasi pinjaman hukum nasabah bernama saksi sri ku ##tina ##h bilang terdakwa memperpanjang bil ##yet cim k nya habi jatuh tempo ##nya tanggal 04 septemb 2013 bil ##yet cim k nama saksi sri ku ##tina ##h dititipkan terdakwa bil ##yet sim k bukti deposit terdakwa membawa senin tanggal 02 septemb 2013 sekira jam 13 00 wib terdakwa saksi ak ##mal ##ia kasi ##r kud min jati ##ro ##go cabang 1 lembar bil ##yet sim ##ka anggota kud mint ##orogo unit simpan pinjam no sim ##ka 41 03 ##0 00 ##14 ##8 00 tanggal 4 septemb 2012 nama sri ku ##tina ##h alamat ds mla ##ti lor no 40 ##1 a rt 05 rw ii kec kota kab kudu simpanan rp 20 000 000 puluh juta rupiah tanda tangannya 1 lembar slip bukti penarikan kud mint ##orogo nama sri ku ##tina ##h alamat ds mla ##ti lor no 40 ##1 a rt 05 rw ii kec kota kab kudu rp 20 000 000 tanda tangani nasabah ##nya terdakwa bilang saksi ak ##mal ##ia saksi sri ku ##tina ##h pencairan deposito ##nya surat surat dokumen saksi ak ##mal ##ia terima saksi bi ##yet sim ##ka anggota nasabah jatuh tempo ##nya habi tanggal 04 septemb 2013 saksi ak ##mal ##ia percaya terdakwa en ##i suli ##ti ##yani ##ng ##sih penarikan dana nasabah saksi ak ##mal ##ia prose sesuai prosedur uang saksi ak ##mal ##ia cair ##kan sesuai jatuh tempo ##nya diata saksi ak ##mal ##ia mencairkan bil ##yet sim ##ka anggota kud mint ##orogo unit simpan pinjam no sim ##ka 41 03 ##0 00 ##14 ##8 00 tanggal 4 septemb 2012 nama sri ku ##tina ##h alamat ds mla ##ti lor no 40 ##1 a rt 05 rw ii kec kota kab kudu uang rp 20 000 000 puluh juta rupiah milik nasabah ##nam ##a saksi sri ku ##tina ##h saksi ak ##mal ##ia serahkan terdakwa terdakwa mengakui menuli menandatangani slip penarikan menandatangani stem ##pel bil ##yet sim k bukti deposit nama nasabah saksi sri ku ##tina ##h selasa tanggal 03 septemb 2013 terdakwa mengambil slip penarikan terdakwa tuli sesuai identita bil ##yet sim k bukti deposit nama nasabah saksi sri ku ##tina ##h rp 20 000 000 ##pul ##uh juta rupiah akibat perbuatan terdakwa mengakibatkan kud min jati ##ro ##go cabang pembantu mej ##obo menderita kerugian rp 20 000 000 ##pul ##uh juta rupiah perbuatan terdakwa diatur diancam pidana pasal 37 ##4 kuhp menimbang dakwaan persidangan terdakwa penasehat hukum nya mengerti isi maksud dakwaan terdakwa mengajukan keberatan eksepsi mengadili 1 terdakwa en ##i suli ##ti ##yani ##ng ##sih binti mash ##adi terbukti sah menya ##kin ##kan bersalah tindak pidana pemalsuan surat 2 menjatuhkan pidana terdakwa pidana penjara 7 tujuh 3 menetapkan penahanan dijalani terdakwa dikur ##angkan pidana dijatuhkan 4 memerintahkan terdakwa penahanan 5 memerintahkan barang bukti 1 lembar bil ##yet sim ##ka anggota kud mint ##orogo unit simpan pinjam no sim ##ka 41 03 ##0 00 ##14 ##8 00 tanggal 4 septemb 2012 nama sri ku ##tina ##h alamat ds mla ##ti lor no 40 ##1 a rt 05 rw ii kec kota kab kudu simpanan rp 20 000 000 puluh juta rupiah tanda tangannya 1 lembar slip bukti penarikan kud mint ##orogo nama sri ku ##tina ##h alamat ds mla ##ti lor no 40 ##1 a rt 05 rw ii kec kota kab kudu rp 20 000 000 puluh juta rupiah tanda tangan ##ya tertangg 4 septemb 2013 1 lembar bukti pengeluaran ka bank kud mint ##orogo rp 65 07 ##5 000 enam puluh juta tujuh puluh ribu rupiah tertangg 4 septemb 2013 1 lembar prin out simpanan berjangka kud mint ##orogo nama sri ku ##tina ##h ##ode tanggal 04 septemb 2013 s d 04 septemb dikembalikan kud mint ##orogo saksi ak ##mal ##ia binti suk ##ir ##no 1 lembar kartu keluarga kk no 33 ##19 ##0 ##21 ##20 ##4 ##12 ##00 ##10 nama kepala ##aga sri ku ##tina ##h alamat ds mla ##ti lor rt 00 ##5 rw 00 ##2 kec kota kudu kab kudu keluarkan tanggal 12 04 2012 dikembalikan saksi sri ku ##tina ##h 6 membeb ##ankan biaya perkara terdakwa rp 2000 ribu rupiah menimbang membuktikan dakwaan ##nya penuntut mengajukan saksi saksi keterangan sumpah menerangkan berita acara sidang 1 saksi ak ##mal ##ia binti suk ##ir ##no saksi kud mint ##orogo februari terdakwa saksi terdakwa diajukan diper ##idang ##an bil ##yet deposito bil ##yet gir ##o bermasalah milik saksi sri ku ##tina ##h jatuh tempo tanggal 4 septemb 2013 karyawan kud mint ##orogo jatuh tempo bil ##yet gir ##o 3 jabatan saksi kasi ##r terdakwa administrasi dimana jabatan terdakwa saksi kasi ##r saksi menggantikan kedudukan terdakwa administrasi kasi ##r mej ##obo terdakwa saksi menggantikan terdakwa juli 2013 tuga kasi ##r ##p simpanan simpanan deposito transaksi keuangan nasabah saksi kasi ##r saksi data data nasabah terdakwa terdakwa memberikannya data saksi sri ku ##tina ##h terdakwa mengusik nasabah senin tanggal 02 septemb 2013 sekira jam 13 00 wib terdakwa ker ##uangan saksi langsung menyerahkan surat surat dokumen slip bukti penarikan ditand ##a tangani nasabah ##nya bil ##yet sim ##ka anggota bukti deposito nama nasabah saksi sri ku ##tina ##h bilang ngomong saksi saksi sri ku ##tina ##h pencairan deposito ##nya prose pencairan deposito milik saksi sri ku ##tina ##h saksi merasakan kejanggalan saksi prose transaksi ##nya uang dicairkan saksi melaporkan is ##na manaj pendanaan kro ##sc ##ek sri ku ##tina ##h prosedur ##nya pencairan deposito nasabah membawa bil ##yet deposito menuli slip penarikan kartu identita tanda tangan didepan kasi ##r kasi ##r mempros tanda tangan persetujuan kepala cabang kantor pusat prosedur perpanjangan deposito prosedur ##nya perpanjangan deposito nasabah membawa bil ##yet deposito blank ##o perpanjangan kartu identita kasi ##r mempros deposito milik saksi sri ku ##tina ##h saksi sri ku ##tina ##h mint ##orogo mengen sistem jemp ##ut bola terdakwa saksi percaya terdakwa terdakwa penarikan ditandatangani jemp ##ut bola transaksi saksi sri ku ##tina ##h terdakwa pencairan terdakwa bilang bil ##yet sri ku ##tina ##h dicairkan rp 20 000 000 bawa bu sri ku ##tina ##h saksi tunai uang rp 20 000 000 terdakwa saksi menyerahkan uang tanggal 4 septemb 2013 saksi konfirmasi saksi sri ku ##tina ##h bil ##yet deposito ##nya diperpanjang saksi iya bu saksi memberitahukan saksi sri ku ##tina ##h sesungguhnya nasabah habi op ##nam ##e terdakwa mengembalikan milik saksi sri ku ##tina ##h mengganti uang kud mint ##orogo terdakwa mencairkan deposito milik saksi sri ku ##tina ##h saksi langsung konfirmasi saksi sri ku ##tina ##h data data telepon nasabah terdakwa saksi saksi memintanya saksi terdakwa diperintahkan saksi sri ku ##tina ##h mencairkan bil ##yet deposito inisiatif terdakwa 10 sepuluh orang dirugikan terdakwa saksi sri ku ##tina ##h nomin ##nya saksi saksi sri ku ##tina ##h diberitahu nasabah shock lembaga bertanggung mengganti uang nasabah penggantian terdakwa nasabah saksi sri ku ##tina ##h bil ##yet deposito terdakwa perintah diperpanjang ditarik nasabah saksi sri ku ##tina ##h menandatangani slip penarikan slip penarikan dimiliki kasi ##r ap ##h front offic slip penarikan slip penarikan rangkap 2 saksi sri ku ##tina ##h surat kuasa terdakwa pengambilan 4 septemb 2013 kedudukan saksi kasi ##r terdakwa ap ##h tuga ap ##h menguru pinjaman realisasi anggota sp ##k tuga kasi ##r mengk ##ro ##ce ##k simpanan jatuh tempo ka terdakwa menarik deposito milik saksi sri ku ##tina ##h terdakwa saksi sri ku ##tina ##h saksi diy ##akinkan terdakwa saksi sri ku ##tina ##h nasabah ##nya berhubungan kud mint ##orogo terdakwa menguru ##kan terdakwa membawa lengkap bil ##yet deposito slip penarikan saksi percaya percaya saksi menyerahkan uang terdakwa tanda bukti penerimaan uang tunai dida ##ta sistem alamat nomor telepon saksi curiga terdakwa mempros pencairan terdakwa membawa lengkap syarat penarikan deposito saksi uangnya terdakwa dipindah ap ##h rotasi keterangan saksi terdakwa berkeb ##erat ##an 1 saksi is ##na hikmat ##ul mum ##tah ##anah binti tur ##ai ##chan nugroho alm jabatan saksi kud mint ##orogo saksi manaj pendanaan dibawah direktur diata manaj kantor cabang terdakwa dilaporkan pemalsuan tanda tangan tang ##al 05 septemb 2013 kali dikasih saksi ak ##mal ##ia kasi ##r saksi siswa ##n ##to man ##eger kantor cabang pembantu mej ##obo kejanggalan pencairan nasabah bersangkutan diwak ##ilkan kenyataan ##ya pengambilan pencairan dana lakukan terdakwa en ##i suli ##ti ##yani ##ng ##sih saksi saksi ak ##mal ##ia kasi ##r saksi ma ##du ##ki manag area langsung kro ##sc ##ek nasabah nasabah pengambilan uang memperpanjang deposit saksi laporan kasi ##r manaj kantor cabang kejanggalan prose transaksi terdakwa anggota percaya terdakwa terdakwa kud mint ##orogo jemp ##ut bola terdakwa saksi sri ku ##tina ##h kantor kud mint ##orogo transaksi keuangan ##nya dibantu terdakwa terdakwa data anggota saksi ak ##mal ##ia saksi data nasabah saksi telepon mengaku bernama kristina sri ku ##tina ##h saksi kud mint ##orogo percaya mbak en ##i saksi sri ku ##tina ##h uangnya dicairkan terdakwa tanda ##tang ##an slip deposito tanda ##tang ##an saksi sri ku ##tina ##h tanda ##tang ##an terdakwa syarat pengambilan bil ##yet deposito tunai bil ##yet deposito slip penarikan kartu identita penarikan deposito nasabah kud mint ##orogo membolehkan jemp ##ut bola nasabah diwakili karyawan kud mint ##orogo dipercaya prosesnya 1 menyerahkan uang tunai anggota kasi ##r spm ##u surat perintah mengeluarkan uang tanda tangan penerima spm ##u prosesnya manaj kantor cabang manaj kantor cabang bertanggung 2007 terdakwa menjabat kasi ##r kud mint ##orogo dibuka 2007 kedudukan kasi ##r ap ##h kedudukan 1 tingkat terdakwa dipindah kasi ##r ap ##h terdakwa kasi ##r dipindah posisi ref ##re ##h ditemukan kejanggalan kejanggalan ##nya doubl pembukuan terdakwa pembukuan data didalam buku terdakwa disi ##stem berbeda nasabah buku print out saldo ##nya berbeda dipr ##int terdakwa hasilnya saksi penguru kud rumah saksi sri ku ##tina ##h saksi sri ku ##tina ##h bil ##yet gir ##o miliknya diperpanjang diserahkan saksi menerangkan kejadian saksi berter ##u terang saksi sri ku ##tina ##h 1 minggu pencairan terdakwa penggantian uang nasabah rp 50 000 000 saksi terdakwa mengganti uang kud mint ##orogo menandatangani pencairan manaj kantor cabang saksi saksi tanda ##tang ##an saksi petuga percaya langsung tanda ##tang ##an saksi kro ##sc ##ek lapangan transaksi kud mint ##orogo saksi prosesnya terdakwa maju saksi langsung saksi perb ##olehkan saksi tanda ##tang ##an transaksi mengajukan karyawan kud mint ##orogo saksi po po ver ##fikasi keterangan saksi terdakwa berkeb ##erat ##an 1 saksi ma ##du ##ki bin hasyim alm saksi manag area tuga saksi pencapaian target target saksi dikan ##tor pusat karanganyar pengawasan operasion kerja kali saksi laporan saksi siswa ##n ##to saksi ak ##mal ##ia kantor mej ##obo pencairan rp 20 000 000 puluh juta rupiah nasabah saksi kro ##sc ##ek nasabah diperpanjang diambil peraturan kud mint ##orogo membolehkan nasabah nasabah menarik memperpanjang tanda ##tang ##annya slip penarikan tanda ##tang ##an slip penarikan deposito terdakwa kud mint ##orogo pergantian pegawai habi roll pegawai ketahuan dibawa terdakwa uangnya terdakwa dipanggil diperiksa tanggal ##nya saksi lupa uang rp 20 000 000 puluh juta rupiah dibawa terdakwa kud mint ##orogo bertanggung mengganti uang saksi sri ku ##tina ##h tuga pokok fungsi saksi manag area mengawasi operasion kantor kantor cabang dibawah area saksi meliputi angsur ##an pinjaman kela ##ur masuknya uang saksi pengawasan intern keterangan saksi terdakwa keberatan terdakwa menyerahkan uang milik saksi sri ku ##tina ##h kud mint ##orogo 4 saksi siswa ##n ##to bin slamet terdakwa kasi ##r dir ling berubah posisi ap ##h kasi ##r saksi ak ##mal ##ia lembar pencairan tanda ##tang ##an saksi tanda ##tang ##an pencairan kejadian 1 kali saksi lapor kantor pusat saksi konfirmasi saksi sri ku ##tina ##h nomor ##nya saksi rumahnya orang terdakwa mengaku terdakwa bilang uang diserahkan saksi sri ku ##tina ##h perbuatan terdakwa mengakibatkan kerugian rp 300 000 000 ratu juta rupiah pengakuan terdakwa saksi kantor mej ##obo februari 2013 kejadian saksi setahu saksi terdakwa mengembalikan uang kud mint ##orogo saksi sri ku ##tina ##h sesuai aturan sanksi hasil pengawa intern kantor pusat tindakan terdakwa disk ##orsi ##ng roll keterangannya pengawa intern phk dikom ##uni ##ka ##ikan terdakwa terdakwa mengembalikan hasil perkara dilanjutkan kepolisian aturan kud diperbolehkan jemp ##ut bola nasabah kantor print out hasilnya terdakwa diambil alih hasil print out ##nya diubah terdakwa saksi lapor ##kan pengawa intern keterangan saksi terdakwa berkeb ##erat ##an 5 saksi sri ku ##tina ##h binti sun ##ardi alm saksi kenal terdakwa 2008 buka cabang mej ##obo saksi nasabah menabung kud mint ##orogo menyimpan bentuk deposito rp 100 000 000 seratu juta rupiah dibagi 4 bil ##yet tanggal 4 septemb 2013 pegawai kud mint ##orogo saksi is ##na saksi ak ##mal ##ia riri ##n saksi bilang memperpanjang bil ##yet deposito saksi bil ##yet deposito saksi sri ku ##tina ##h saksi diberitahu pergantian petuga diberitahu intern kud mint ##orogo petuga kud petuga kepolisian saksi tanda ##tang ##an saksi saksi tanda ##tang ##an saksi saksi tanda ##tang ##an tanda ##tang ##an sesuai tanda ##tang ##an saksi terdakwa rumah saksi bil ##yet deposito saksi bil ##yet deposito perp ##anjang bil ##yet deposito saksi titi ##pkan terdakwa diperpanjang dicairkan saksi menyerahkan bil ##yet deposito terdakwa 3 tanggal 4 septemb 2013 saksi serahkan bil ##yet deposito tanda ##tang ##an uang penarikan diserahkan saksi saksi penarikan polisi barang bukti terdakwa rumah saksi posisi jabatannya saksi terdakwa jabatannya saksi penarikan deposito terdakwa suami saksi meningg saksi menyerahkan bil ##yet depo stop tanda ##tang ##an langsung saksi serahkan terdakwa uangnya diantar rumah saksi percaya percaya saksi menarik bil ##yet deposito milik saksi kepolisian saksi menarik bil ##yet deposito saksi terdakwa saksi penggantian kud mint ##orogo terdakwa ganti bermasalah bil ##yet depo toni 1 saksi simpan kejadian pemberitahuan terdakwa rumah saksi menitipkan bil ##yet deposito saksi diperpanjang saksi menitipkan terdakwa surat kuasa dokumen berhubungan peni ##tip ##an tanggal 4 septemb 2013 terdakwa 4 orang kud mint ##orogo saksi cerita bil ##yet deposito saksi dikembalikan slip penarikan saksi saksi keterangan saksi terdakwa berkeb ##erat ##an 6 saksi supri ##yadi sh mh bin suka tah saksi manaj utama pimpinan pengelola usaha manajemen kud mint ##orogo tuga saksi mengatur mengawasi operasion diseluruh kud mint ##orogo cabang pembantu mej ##obo kudu saksi laporan pengawa intern tanggal 5 septemb 2013 terdakwa dipanggil rangka keterangan penyimpangan dilaksanakan terdakwa mengakui perbuatannya memalsukan tanda ##tang ##an nasabah penyimpangan ##nya 2010 ##udit pengawa intern ditemukan kebocoran sistem pelaporan keuangan terdakwa agustu 2010 5 juli 2013 rp 39 ##2 89 ##5 37 ##2 ratu sembilan puluh juta delapan ratu sembilan puluh ribu ratu tujuh puluh rupiah keterangan terdakwa ##nnya menutup uang nasabah sistem tamb ##al sula ##m contohnya tabungan nasabah rp 100 000 000 seratu juta rupiah data kantor rp 12 000 000 data fiktif terdakwa meminjam uang nasabah menutup nasabah prosedur perpanjangan deposito nasabah dititipkan konfirmasi saksi uangnya kemana kud mint ##orogo bertanggung uang saksi sri ku ##tina ##h terkait kerugian dialami kud mint ##orogo agustu 2010 2013 mengam ##bal ##ikan uang kud mint ##orogo terdakwa menyet ##orkan uang rp 50 000 000 puluh juta rupiah uang langsung dimasukkan pembukuan ka koperasi ka koperasi kud mint ##orogo pusat tanggal 9 septemb 2013 sop kud mint ##orogo jemp ##ut bola penerapan cape ##m salah sop maksudnya turun lapangan sebata memasarkan penarikan uang statu terdakwa phk kejadian kejadian tanggal 7 septemb 2013 terdakwa mengakui ##nya menand ##atangi slip penarikan bil ##yet deposito nama sri uang hasil penarikan terdakwa membawa saksi sri ku ##tina ##h sanksi dikenakan ketahuan jemp ##ut bola skors saksi bertemu terdakwa saksi kejadian berdasarkan hasil pengawasan intern terdakwa lakukan penarikan uang deposit ##kan salah nasabah saksi sri ku ##tina ##h memalsukan tanda tangan slip penarikan deposit rp 20 000 000 puluh juta rupiah nama nasabah saksi sri ku ##tina ##h terdakwa saksi keluarkan karyawan kud mint ##orogo cabang pembantu mej ##obo kudu terdakwa kud pusat mint ##orogo tanggal 09 septemb 2013 klarifikasi terkait kerugian dialami kud mint ##orogo bersangkutan mengakui pemakaian uang nasabah kud mint ##orogo agustu 2010 agustu 2013 tanggal 02 agustu 2013 salah nasabah menabung rp 50 000 000 puluh juta rupiah terdakwa uang langsung dimasukkan pembukuan ka koperasi ka koperasi kud mint ##orogo pusat tanggal 09 agustu 2013 terdakwa audit kud mint ##orogo pusat demak senin tanggal 09 septemb 2013 sekira jam 14 wib kebocoran dana nasabah terdakwa mengakui ##nya ##ya berulang kali semenjak menjabat kasi ##r menjabat ap ##h account ##ing kud mint ##orogo cabang pembantu mej ##obo mengambil uang nasabah uang terdakwa tamb ##al sula ##m nasabah ##nya keterangan saksi terdakwa membenarkan ##nya menimbang terdakwa diper ##idang ##an keterangan rabu tanggal 4 septemb 2013 jam 15 00 wib kantor kud mint ##orogo cabang mej ##obo ds tengg ##ele rt 05 rw 04 kec mej ##obo kab kudu terdakwa mencairkan uang milik nasabah nasabah ##nya saksi sri ku ##tina ##h terdakwa kantor kud mint ##orogo cabang mej ##obo 2007 2013 kud kasi ##r mei 2013 terdakwa kasi ##r terdakwa dipindah ap ##h akun ##ting bertuga administrasi akun ##ting terdakwa kerum ##ah nasabah nama saksi sri ku ##tina ##h senin tanggal 02 septemb 2013 sekira jam 07 30 wib ds mla ##ti lor no 40 ##1 a rt 05 ii kudu terdakwa saksi sri ku ##tina ##h bilang jatuh tempo ##nya tanggal 04 septemb 2013 bil ##yet sim ##ka nama saksi sri ku ##tina ##h te ##ebut dititipkan terdakwa saksi sri ku ##tina ##h nasabah terdakwa terdakwa diti ##tip ##i bil ##yet sim ##ka memperpanjang jatuh tempo ##nya selasa tanggal 03 septemb 2013 bil ##yet sim ##ka milik saksi sri ku ##tina ##h terdakwa serahkan saksi ak ##mal ##ia kasi ##r kud mint ##orogo cabang mej ##obo terdakwa menyerahkan bil ##yet sim ##ka saksi ak ##mal ##ia terdakwa bilang nasabah mencairkan dananya kud mint ##orogo saksi ak ##mal ##ia percaya terdakwa diterimanya terdakwa menyerahkan slip penarikan bil ##yet sim ##ka ditandatangani terdakwa semi urip tanda tangan saksi sri ku ##tina ##h pencairan dipros terdakwa menerima uang hasil pencairan milik nasabah saksi sri ku ##tina ##h rabu tanggal 04 septemb 2013 sekira 15 00 wib menyerahkan saksi ak ##mal ##ia kasi ##r uang terdakwa cair ##kan milik nasabah bernama saksi sri ku ##tina ##h rp 20 000 000 puluh juta rupiah uang rp 20 000 000 puluh juta rupiah rencananya terdakwa perg ##una ##kan menutup nasabah uang rp 20 000 000 puluh juta rupiah terdakwa kembalikan kud mint ##orogo pusat demak terdakwa mengembalikan uang senin tanggal 09 septemb 2013 sekira jam 14 00 wib kantor pusat kud mint ##orogo demak diterima saudari hem ##mi terdakwa teman teman terdakwa kud mint ##orogo perbuatan terdakwa memakai uang milik nasabah menimbang persidangan terdakwa mengajukan saksi menguntungkan baginya a de charg hak kesempatan persidangan menimbang penuntut mengajukan barang bukti persidangan 1 lembar bil ##yet sim ##ka anggota kud mint ##orogo unit simpan pinjam no sim ##ka 41 03 ##0 00 ##14 ##8 00 tanggal 4 septemb 2012 nama sri ku ##tina ##h alamat ds mla ##ti lor no 40 ##1 a rt 05 rw ii kec kota kab kudu simpanan rp 20 000 000 puluh juta rupiah tanda tangannya 1 lembar slip bukti penarikan kud mint ##orogo nama kab kudu rp 20 000 000 puluh juta rupiah tanda tangan ##ya tertangg 4 septemb 2013 1 lembar bukti pengeluaran ka bank kud mint ##orogo rp 65 07 ##5 000 enam puluh juta tujuh puluh ribu rupiah tertangg 4 septemb 2013 1 lembar prin out simpanan berjangka kud mint ##orogo nama sri ku ##tina ##h ##ode tanggal 04 septemb 2013 s d 04 septemb 2013 1 lembar kartu keluarga kk no 33 ##19 ##0 ##21 ##20 ##4 ##12 ##00 ##10 nama kepala ##aga sri ku ##tina ##h alamat ds mla ##ti lor rt 00 ##5 rw 00 ##2 kec kota kudu kab kudu keluarkan tanggal 12 04 2012 menimbang barang bukti disita sah hukum persidangan saksi saksi terdakwa membenarkan ##nya diterima dipertimbangkan barang bukti sah perkara menimbang terungkap persidangan tercatat berita acara sidang termuat putusan singkatnya dipandang terc ##akup dipertimbangkan terpisahkan putusan menimbang berdasarkan keterangan saksi saksi dihubungkan keterangan terdakwa bersesuaian barang bukti petunjuk diperoleh fakta fakta persidangan senin tanggal 02 septemb 2013 sekira jam 13 00 wib terdakwa saksi ak ##mal ##ia kasi ##r kud min jati ##ro ##go cabang pembantu mej ##obo menyerahkan 1 lembar bil ##yet sim ##ka anggota kud mint ##orogo unit simpan pinjam no sim ##ka 41 03 ##0 00 ##14 ##8 00 tanggal 4 septemb 2012 nama sri ku ##tina ##h alamat ds mla ##ti lor no 40 ##1 a rt 05 rw ii kec kota kab kudu simpanan rp 20 000 000 puluh juta rupiah tanda tangannya 1 lembar slip bukti penarikan kud mint ##orogo nama sri ku ##tina ##h alamat ds mla ##ti lor no 40 ##1 a rt 05 rw ii kec kota kab kudu rp 20 000 000 keterangan saksi ak ##mal ##ia dokumen tanda tangani nasabah ##nya sri ku ##tin ##i terdakwa bilang saksi ak ##mal ##ia saksi sri ku ##tina ##h pencairan deposito ##nya surat surat dokumen saksi ak ##mal ##ia terima saksi bi ##yet sim ##ka anggota nasabah jatuh tempo ##nya habi tanggal 04 septemb 2013 saksi ak ##mal ##ia percaya terdakwa persyaratan ##nya dipenuhi penarikan dana nasabah saksi ak ##mal ##ia prose sesuai prosedur uang saksi ak ##mal ##ia saksi ak ##mal ##ia mencairkan bil ##yet sim ##ka anggota kud mint ##orogo unit simpan pinjam no sim ##ka 41 03 ##0 00 ##14 ##8 00 tanggal 4 septemb 2012 nama sri ku ##tina ##h alamat ds mla ##ti lor no 40 ##1 a rt 05 rw ii kec kota kab kudu uang rp 20 000 000 puluh juta rupiah milik nasabah nama saksi sri ku ##tina ##h saksi ak ##mal ##ia serahkan terdakwa keterangan saksi sri ku ##tina ##h saksi sri ku ##tina ##h menyerahkan bil ##yet sim ##ka miliknya terdakwa diperpanjang jatuh tempo ##nya dicairkan saksi sri ku ##tina ##h menandatangani bil ##yet sim ##ka miliknya tujuan dicairkan saksi sri ku ##tina ##h menandatangani slip penarikan saksi sri ku ##tina ##h menerima uang rp 20 000 000 terdakwa perbuatan terdakwa ketahuan saksi amal ##ia mencurigai terdakwa mencairkan uang milik saksi sri ku ##tina ##h terdakwa mengakui menuli menandatangani slip penarikan menandatangani stem ##pel bil ##yet sim k bukti deposit nama nasabah saksi sri ku ##tina ##h selasa tanggal 03 septemb 2013 terdakwa mengambil slip penarikan terdakwa tuli sesuai identita bil ##yet sim k bukti deposit nama nasabah saksi sri ku ##tina ##h rp 20 000 000 puluh juta rupiah berdasarkan berita acara pemeriksaan labor ##ator ##i krimin ##istik nomor lab 150 dt ##f iii 2014 tanggal 25 februari 2014 uraian diata kesimpulan 3 buah tanda tangan bukti sri ku ##tina ##h q ##t non identik tanda tangan pemb ##and sri ku ##tina ##h kt tanda tangan nama sri ku ##tina ##h bukti dokumen bukti nomor bb 52 ##7 2014 dt ##f bb 52 ##8 2014 dt ##f 1 lembar sim ##ka anggota no kc ##u 00 ##20 ##9 ##28 unit simpan pinjam kud mint ##orogo nama sri ku ##tina ##h senilai rp 20 000 000 puluh juta rupiah tertangg 4 septemb 2012 1 lembar bukti penarikan no 205 ##6 ##1 unit simpan pinjam kud mint ##orogo nama sri ku ##tina ##h senilai rp 20 000 000 puluh juta rupiah tertangg 4 9 13 tanda tangan sri ku ##tina ##h pemb ##and tanda tangan berbeda akibat perbuatan terdakwa mengakibatkan kud min jati ##ro ##go cabang pembantu mej ##obo menderita kerugian terdakwa menyesali perbuatannya berjanji mengulangi perbuatannya menimbang fakta fakta selebihnya ditentukan bersamaan pembuktian dakwaan penuntut maje mempertimbangkan membuktikan dakwaan penuntut disusun bentuk dakwaan alternatif ke ##atu pasal 26 ##3 ayat 1 kuhp menimbang dakwaan penuntut disusun bentuk dakwaan alternatif maje memilih mempertimbangkan dakwaan alternatif dipandang relevan terpenuhi perbuatan terdakwa sesuai fakta fakta persidangan maje berpendapat dakwaan altern ke ##atu pasal 26 ##3 ayat 1 kuhp bunyinya barangsiapa surat palsu memalsukan surat menerbitkan hak perjanjian kewajiban pembebasan utang keterangan perbuatan maksud menyuruh orang surat surat olah surat asli dip ##alsukan ##nya kerugian dihukum pemalsuan surat hukuman penjara enam menimbang unsur unsur pasal 26 ##3 ayat 1 kuhp ida ##na dipertimbangkan 1 unsur barang menimbang barang individu manusia subjek hukum pendukung hak kewajiban diduga didakwa tindak pidana pembuktian ##nya bergantung pembuktian deli ##k intinya diduga pelaku tindak pidana menimbang perkara subjek hukum terdakwa en ##i suli ##ti ##yani ##ng ##sih binti mash ##adi identita lengkapnya terdakwa sesuai dibenarkan lengkap surat dakwaan penuntut saksi saksi keterangan persidangan mengen terdakwa orang dakwaan penuntut kesalahan subyek hukum pelaku tindak pidana error in persona orang terdakwa dakwaan penuntut orang diajukan terdakwa persidangan menimbang berdasarkan pertimbangan unsur dakwaan penuntut terpenuhi terdakwa 1 unsur surat palsu memalsukan surat menimbang keterangan saksi saksi keterangan terdakwa dihubungkan barang bukti diper ##idang ##an diperoleh fakta fakta hukum saksi sri ku ##tina ##h nasabah terdakwa senin tanggal 02 septemb 2013 terdakwa berkunjung rumah saksi sri ku ##tina ##h mengantar uang jasa simpanan koperasi kud mint ##orogo milik saksi sri ku ##tina ##h saksi sri ku ##tina ##h menitipkan terdakwa 1 lembar bil ##yet sim ##ka anggota kud mint ##orogo unit simpan pinjam no sim ##ka 41 03 ##0 00 ##14 ##8 00 tanggal 4 septemb 2012 nama sri ku ##tina ##h alamat ds mla ##ti lor no 40 ##1 a rt 05 rw ii kec kota kab kudu simpanan rp 20 000 000 puluh juta rupiah saksi sri ku ##tina ##h kenal terdakwa percaya terdakwa terdakwa rabu tanggal 04 septemb 2013 sekira jam 15 00 wib bil ##yet sim ##ka anggota kud mint ##orogo unit simpan pinjam no sim ##ka 41 03 ##0 00 ##14 ##8 00 tanggal 4 septemb 2012 nama saksi sri ku ##tina ##h alamat ds mla ##ti lor no 40 ##1 a rt 05 rw ii kec kota kab kudu cair ##kan terdakwa uang rp 20 000 000 puluh juta rupiah bawa terdakwa sesuai keterangan terdakwa terdakwa mencairkan bil ##yet sim ##ka milik saksi sri ku ##tina ##h menuli menandatangani slip penarikan menandatangani stem ##pel bil ##yet sim k bukti deposit nama nasabah saksi sri ku ##tina ##h selasa tanggal 03 septemb 2013 terdakwa mengambil slip penarikan terdakwa tuli sesuai identita bil ##yet sim k bukti deposit nama nasabah saksi sri ku ##tina ##h rp 20 000 000 ##pul ##uh juta rupiah terdakwa saksi ak ##mal ##ia kasi ##r kud min jati ##ro ##go cabang pembantu mej ##obo menyerahkan 1 lembar bil ##yet sim ##ka anggota kud mint ##orogo unit simpan pinjam no sim ##ka 41 03 ##0 00 ##14 ##8 00 tanggal 4 septemb 2012 nama sri ku ##tina ##h alamat ds mla ##ti lor no 40 ##1 a rt 05 rw ii kec kota kab kudu simpanan rp 20 000 000 puluh juta rupiah tanda tangannya 1 lembar slip bukti penarikan kud mint ##orogo nama sri ku ##tina ##h alamat ds mla ##ti lor no 40 ##1 a rt 05 rw ii kec kota kab kudu rp 20 000 000 bukti tanda tangan nasabah ##nya terdakwa bilang saksi ak ##mal ##ia saksi sri ku ##tina ##h pencairan deposito ##nya surat surat dokumen saksi ak ##mal ##ia terima saksi ak ##mal ##ia bi ##yet sim ##ka anggota nasabah jatuh tempo ##nya habi tanggal 04 septemb 2013 saksi ak ##mal ##ia percaya terdakwa en ##i suli ##ti ##yani ##ng ##sih penarikan dana nasabah saksi ak ##mal ##ia prose sesuai prosedur uang saksi ak ##mal ##ia cair ##kan sesuai jatuh tempo ##nya keterangan saksi amal ##ia keterangan terdakwa sistem jemp ##ut bola karyawan kud mint ##orogo saksi ak ##mal ##ia mempros pencairan dana nasabah saksi sri ku ##tina ##h uang rp 20 000 000 diserahkan saksi ak ##mal ##ia dibawa terdakwa uang simpanan saksi sri ku ##tina ##h no sim ##ka 41 03 ##0 00 ##14 ##8 00 tanggal 4 septemb 2012 nama sri ku ##tina ##h alamat ds mla ##ti lor no 40 ##1 a rt 05 rw ii kec kota kab kudu cair terdakwa memalsukan tanda tangan saksi sri krimin ##istik krimin ##istik nomor lab 150 dt ##f iii 2014 tanggal 25 februari 2014 uraian diata kesimpulan 3 buah tanda tangan bukti sri ku ##tina ##h q ##t non identik tanda tangan pemb ##and sri ku ##tina ##h kt tanda tangan nama sri ku ##tina ##h bukti dokumen bukti nomor bb 52 ##7 2014 dt ##f bb 52 ##8 2014 dt ##f 1 lembar sim ##ka anggota no kc ##u 00 ##20 ##9 ##28 unit simpan pinjam kud mint ##orogo nama sri ku ##tina ##h senilai rp 20 000 000 puluh juta rupiah tertangg 4 septemb 2012 1 lembar bukti penarikan no 205 ##6 ##1 unit simpan pinjam kud mint ##orogo nama sri ku ##tina ##h senilai rp 20 000 000 puluh juta rupiah tertangg 4 9 13 tanda tangan sri ku ##tina ##h pemb ##and tanda tangan berbeda saksi sri ku ##tina ##h menyuruh terdakwa memerintahkan terdakwa pencairan bil ##yet sim ##ka miliknya perpanjangan uang saksi sri ku ##tina ##h ditangan saksi sri ku ##tina ##h terdakwa diper ##idang ##an mengakui tanda ##tang ##an sim ##ka bil ##yet milik saksi sri ku ##tina ##h slip penarikan tanda ##tang ##an saksi sri ku tina tanda ##tang ##an terdakwa tujuan terdakwa memalsukan tanda ##tang ##an saksi sri ku ##tina ##h menguasai dana milik saksi sri ku ##tina ##h kepentingan terdakwa menimbang uraian pertimbangan diata unsur terpenuhi 3 unsur menerbitkan hak perjanjian kewajiban pembebasan utang keterangan perbuatan maksud menyuruh orang surat surat olah surat asli palsu ##kan menimbang keterangan saksi saksi keterangan terdakwa dihubungkan barang bukti diajukan diper ##idang ##an diperoleh fakta fakta hukum senin tanggal 02 septemb 2013 terdakwa berkunjung rumah saksi sri ku ##tina ##h mengantar uang jasa simpanan koperasi kud mint ##orogo milik saksi sri ku ##tina ##h saksi sri ku ##tina ##h menitipkan terdakwa 1 lembar bil ##yet sim ##ka anggota kud mint ##orogo unit simpan pinjam no sim ##ka 41 03 ##0 00 ##14 ##8 00 tanggal 4 septemb 2012 nama sri ku ##tina ##h alamat ds mla ##ti lor no 40 ##1 a rt 05 rw ii kec kota kab kudu simpanan rp 20 000 000 puluh juta rupiah saksi sri ku ##tina ##h kenal terdakwa percaya terdakwa terdakwa rabu tanggal 04 septemb 2013 sekira jam 15 00 wib bil ##yet sim ##ka anggota kud mint ##orogo unit simpan pinjam no sim ##ka 41 03 ##0 00 ##14 ##8 00 tanggal 4 septemb 2012 nama saksi sri ku ##tina ##h alamat ds mla ##ti lor no 40 ##1 a rt 05 rw ii kec kota kab kudu cair ##kan terdakwa uang rp 20 000 000 puluh juta rupiah bawa terdakwa sesuai keterangan terdakwa terdakwa mencairkan bil ##yet sim ##ka milik saksi sri ku ##tina ##h menuli menandatangani slip penarikan menandatangani stem ##pel bil ##yet sim k bukti deposit nama nasabah saksi sri ku ##tina ##h selasa tanggal 03 septemb 2013 terdakwa mengambil slip penarikan terdakwa tuli sesuai identita bil ##yet sim k bukti deposit nama nasabah saksi sri ku ##tina ##h rp 20 000 000 ##pul ##uh juta rupiah terdakwa saksi ak ##mal ##ia kasi ##r kud min jati ##ro ##go cabang pembantu mej ##obo menyerahkan 1 lembar bil ##yet sim ##ka anggota kud mint ##orogo unit simpan pinjam no sim ##ka 41 03 ##0 00 ##14 ##8 00 tanggal 4 septemb 2012 nama sri ku ##tina ##h alamat ds mla ##ti lor no 40 ##1 a rt 05 rw ii kec kota kab kudu simpanan rp 20 000 000 puluh juta rupiah tanda tangannya 1 lembar slip bukti penarikan kud mint ##orogo nama sri ku ##tina ##h alamat ds mla ##ti lor no 40 ##1 a rt 05 rw ii kec kota kab kudu rp 20 000 000 bukti tanda tangan nasabah ##nya terdakwa bilang saksi ak ##mal ##ia saksi sri ku ##tina ##h pencairan deposito ##nya surat surat dokumen saksi ak ##mal ##ia terima saksi ak ##mal ##ia bi ##yet sim ##ka anggota nasabah jatuh tempo ##nya habi tanggal 04 septemb 2013 saksi ak ##mal ##ia percaya terdakwa en ##i suli ##ti ##yani ##ng ##sih penarikan dana nasabah saksi ak ##mal ##ia prose sesuai prosedur uang saksi ak ##mal ##ia cair ##kan sesuai jatuh tempo ##nya keterangan saksi amal ##ia keterangan terdakwa sistem jemp ##ut bola karyawan kud mint ##orogo saksi ak ##mal ##ia mempros pencairan dana nasabah saksi sri ku ##tina ##h uang rp 20 000 000 diserahkan saksi ak ##mal ##ia dibawa terdakwa uang simpanan saksi sri ku ##tina ##h no sim ##ka 41 03 ##0 00 ##14 ##8 00 tanggal 4 septemb 2012 nama sri ku ##tina ##h alamat ds mla ##ti lor no 40 ##1 a rt 05 rw ii kec kota kab kudu cair terdakwa memalsukan tanda tangan saksi sri krimin ##istik krimin ##istik nomor lab 150 dt ##f iii 2014 tanggal 25 februari 2014 uraian diata kesimpulan 3 buah tanda tangan bukti sri ku ##tina ##h q ##t non identik tanda tangan pemb ##and sri ku ##tina ##h kt tanda tangan nama sri ku ##tina ##h bukti dokumen bukti nomor bb 52 ##7 2014 dt ##f bb 52 ##8 2014 dt ##f 1 lembar sim ##ka anggota no kc ##u 00 ##20 ##9 ##28 unit simpan pinjam kud mint ##orogo nama sri ku ##tina ##h senilai rp 20 000 000 puluh juta rupiah tertangg 4 septemb 2012 1 lembar bukti penarikan no 205 ##6 ##1 unit simpan pinjam kud mint ##orogo nama sri ku ##tina ##h senilai rp 20 000 000 puluh juta rupiah tertangg 4 9 13 tanda tangan sri ku ##tina ##h pemb ##and tanda tangan berbeda saksi sri ku ##tina ##h menyuruh terdakwa memerintahkan terdakwa pencairan bil ##yet sim ##ka miliknya perpanjangan uang saksi sri ku ##tina ##h ditangan saksi sri ku ##tina ##h terdakwa diper ##idang ##an mengakui tanda ##tang ##an sim ##ka bil ##yet milik saksi sri ku ##tina ##h slip penarikan tanda ##tang ##an saksi sri ku tina tanda ##tang ##an terdakwa tujuan terdakwa memalsukan tanda ##tang ##an saksi sri ku ##tina ##h menguasai dana milik saksi sri ku ##tina ##h kepentingan terdakwa perbuatan terdakwa memalsukan tanda ##tang ##an saksi sri ku ##tina ##h bil ##yet sim ##ka slip penarikan terdakwa berhasil dana saksi sri ku ##tina ##h menimbang berdasarkan uraian pertimbangan maje berpendapat unsur terpenuhi perbuatan terdakwa menimbang unsur dakwaan terpenuhi maje berkesimpulan berkeyakinan terdakwa terbukti sah bersalah tindak pidana pemalsuan surat menimbang uraian pertimbangan maje sependapat penuntut terdakwa terbukti bersalah tindak pidana dakwaan ##nya menimbang pemeriksaan perkara ditemukan alasan pem ##aaf alasan pemben ##ar perbuatan terdakwa terdakwa dinyatakan subyek hukum dipertanggungjawabkan hukum pidana indonesia kesalahan dijatuhkan pidana setim ##pal menimbang pemeriksaan perkara penahanan sah penahanan dijalani terdakwa dikur ##angkan pidana dijatuhkan pidana dijatuhkan penahanan dijalani terdakwa terdakwa diperintahkan tahanan selesai menjalani hukuman kecuali perintah sah memerintahkan terdakwa dikeluarkan tahanan menimbang barang bukti 1 lembar bil ##yet sim ##ka anggota kud mint ##orogo unit simpan pinjam no sim ##ka 41 03 ##0 00 ##14 ##8 00 tanggal 4 septemb 2012 nama sri ku ##tina ##h alamat ds mla ##ti lor no 40 ##1 a rt 05 rw ii kec kota kab kudu simpanan rp 20 000 000 puluh juta rupiah tanda tangannya 1 lembar slip bukti penarikan kud mint ##orogo nama sri ku ##tina ##h alamat ds mla ##ti lor no 40 ##1 a rt 05 rw ii kec kota kab kudu rp 20 000 000 puluh juta rupiah tanda tangan ##ya tertangg 4 septemb 2013 1 lembar bukti pengeluaran ka bank kud mint ##orogo rp 65 07 ##5 000 enam puluh juta tujuh puluh ribu rupiah tertangg 4 septemb 2013 1 lembar prin out simpanan berjangka kud mint ##orogo nama sri ku ##tina ##h ##ode tanggal 04 septemb 2013 s d 04 septemb 2013 sesuai fakta fakta diper ##idang ##an barang bukti kepunyaan kud mint ##orogo kudu ##barang bukti dikembalikan kud mint ##orogo saksi ak ##mal ##ia binti suk ##ir ##no 1 lembar kartu keluarga kk no 33 ##19 ##0 ##21 ##20 ##4 ##12 ##00 ##10 nama kepala ##aga sri ku ##tina ##h alamat ds mla ##ti lor rt 00 ##5 rw 00 ##2 kec kota kudu kab kudu keluarkan tanggal 12 04 2012 dikembalikan saksi sri ku ##tina ##h menimbang tuntutan hukuman penuntut dibandingkan penyesalan sungguh sungguh terdakwa dinilai maje meringankan hemat maje hukuman dirasa berat sepatutnya ##lah dikurangi tertera amar menimbang ple ##do ##i diajukan penasehat hukum terdakwa terdakwa diper ##idang ##an intinya terdakwa mengakui menyesali perbuatannya terdakwa perbuatan hukum memalsukan tanda ##tang ##an saksi sri ku ##tina ##h terdakwa mengambil dana bil ##yet sim ##ka milik saksi sri ku ##tina ##h terdakwa mohon keringanan hukuman ple ##do ##i maje pertim ##bangkan meringankan menimbang berpedoman tujuan penj ##atuhan pidana terdakwa pembalasan tindak pidana dilakukannya utamanya pelajaran terdakwa dikemudian tindak pidana sesuai keadilan hukum keadilan masyarakat bermanfaat terdakwa menimbang menjatuhkan putusan dipertimbangkan meringankan memberatkan penj ##atuhan hukuman terdakwa meringankan terdakwa dihukum terdakwa tulang punggung keluarga prose persidangan terdakwa bersikap sopan memberatkan penj ##atuhan hukuman terdakwa perbuatan terdakwa merugikan saksi sri ku ##tina ##h kud mint ##orogo kudu menimbang terdakwa dinyatakan bersalah dijatuhi pidana sesuai ketentuan pasal 222 kuh ##ap terdakwa dibebani membayar biaya perkara besarnya ditentukan amar putusan memperhatikan segenap peraturan perundang undangan berlaku berhubungan perkara pasal 26 ##3 ayat 1 kuhp ida ##na kitab undang undang hukum acara pidana kuh ##ap\n",
      "Encoded data: [[3, 17572, 6565, 7007, 6726, 16301, 5898, 5677, 11266, 11271, 1500, 7, 7, 2325, 943, 6565, 1935, 7, 7, 51, 2231, 939, 7, 7, 1864, 7, 7, 15790, 7, 7, 2870, 7, 7, 6041, 15886, 21800, 7, 7, 5270, 3626, 2307, 8937, 1857, 1723, 937, 4531, 29537, 2418, 2334, 3709, 3600, 26056, 10607, 1857, 1723, 937, 4531, 12326, 2974, 4932, 21374, 7, 7, 1598, 7043, 4943, 27165, 7, 7, 2464, 928, 2019, 3634, 7, 7, 14153, 7996, 8207, 9077, 8937, 2279, 27165, 7, 7, 2464, 928, 2271, 26728, 1995, 2156, 3753, 2201, 26728, 10918, 6494, 20256, 4704, 7, 7, 2647, 2697, 7049, 26908, 2697, 7354, 2296, 3778, 6085, 4883, 5065, 9559, 1646, 2697, 2697, 4055, 2697, 4332, 7049, 7, 7, 2797, 7, 7, 2647, 5938, 4883, 6565, 4]]\n"
     ]
    }
   ],
   "source": [
    "test_normlize_text = normalize_text(X[0])\n",
    "print(f\"Normalize data: {test_normlize_text}\")\n",
    "\n",
    "test_encoded_text = encode_texts([test_normlize_text], tokenizer)\n",
    "print(f\"Encoded data: {test_encoded_text['input_ids']}\")"
   ]
  },
  {
   "cell_type": "markdown",
   "metadata": {
    "id": "RUZcFd64gUJ_"
   },
   "source": [
    "#### Normalize dan encoded texts"
   ]
  },
  {
   "cell_type": "code",
   "execution_count": 14,
   "metadata": {
    "id": "PZKcPvTSg8AW"
   },
   "outputs": [],
   "source": [
    "X_normalized_texts = X.apply(normalize_text)"
   ]
  },
  {
   "cell_type": "code",
   "execution_count": 15,
   "metadata": {
    "id": "dAizizBcg-Cm"
   },
   "outputs": [],
   "source": [
    "X_normalized_texts_list = X_normalized_texts.tolist()\n",
    "\n",
    "X_encoded = tokenizer(\n",
    "    X_normalized_texts_list,\n",
    "    max_length=MAX_LENGTH,\n",
    "    padding=\"max_length\",\n",
    "    truncation=True\n",
    ")"
   ]
  },
  {
   "cell_type": "code",
   "execution_count": 16,
   "metadata": {
    "id": "cw-nYNpwlGkb"
   },
   "outputs": [],
   "source": [
    "input_ids = X_encoded[\"input_ids\"]\n",
    "attention_masks = X_encoded[\"attention_mask\"]"
   ]
  },
  {
   "cell_type": "code",
   "execution_count": 17,
   "metadata": {
    "id": "Ttwc_ZCPVpcl"
   },
   "outputs": [],
   "source": [
    "# Split data to train and test\n",
    "X_train_ids, X_test_ids, y_train, y_test = train_test_split(input_ids, labels_encoded, test_size=0.2, random_state=42)\n",
    "X_train_masks, X_test_masks = train_test_split(attention_masks, test_size=0.2, random_state=42)"
   ]
  },
  {
   "cell_type": "markdown",
   "metadata": {
    "id": "lDP5ckboXTFb"
   },
   "source": [
    "### Model"
   ]
  },
  {
   "cell_type": "markdown",
   "metadata": {
    "id": "58uLywKLtd8O"
   },
   "source": [
    "#### Create model"
   ]
  },
  {
   "cell_type": "code",
   "execution_count": 18,
   "metadata": {
    "id": "PZUHMz2vP4s9"
   },
   "outputs": [],
   "source": [
    "def create_model(max_length=MAX_LENGTH):\n",
    "  # Input layer\n",
    "  input_ids = tf.keras.layers.Input(shape=(max_length,), dtype=tf.int32, name=\"input_ids\")\n",
    "  attention_mask = tf.keras.layers.Input(shape=(max_length,), dtype=tf.int32, name=\"attention_mask\")\n",
    "\n",
    "  # Pre-trained IndoBERT\n",
    "  model_output = pre_trained_model(input_ids, attention_mask=attention_mask)\n",
    "  cls_token = model_output.last_hidden_state[:, 0]\n",
    "\n",
    "  # Fully Connected Layers for klasifikasi\n",
    "  x = tf.keras.layers.Dense(256, activation=\"relu\")(cls_token)\n",
    "  x = tf.keras.layers.Dropout(0.2)(x)\n",
    "  x = tf.keras.layers.Dense(128, activation=\"relu\")(x)\n",
    "  x = tf.keras.layers.Dropout(0.2)(x)\n",
    "  output = tf.keras.layers.Dense(num_classes, activation=\"softmax\")(x)\n",
    "\n",
    "  # Definisikan model\n",
    "  model = tf.keras.Model(inputs=[input_ids, attention_mask], outputs=output)\n",
    "  return model"
   ]
  },
  {
   "cell_type": "code",
   "execution_count": 19,
   "metadata": {
    "id": "m8M9f_yYRUoz"
   },
   "outputs": [],
   "source": [
    "model = create_model()"
   ]
  },
  {
   "cell_type": "code",
   "execution_count": 20,
   "metadata": {
    "id": "1YBdNpSyP4tA"
   },
   "outputs": [
    {
     "name": "stdout",
     "output_type": "stream",
     "text": [
      "Model: \"model\"\n",
      "__________________________________________________________________________________________________\n",
      " Layer (type)                   Output Shape         Param #     Connected to                     \n",
      "==================================================================================================\n",
      " input_ids (InputLayer)         [(None, 128)]        0           []                               \n",
      "                                                                                                  \n",
      " attention_mask (InputLayer)    [(None, 128)]        0           []                               \n",
      "                                                                                                  \n",
      " tf_bert_model (TFBertModel)    TFBaseModelOutputWi  110558208   ['input_ids[0][0]',              \n",
      "                                thPoolingAndCrossAt               'attention_mask[0][0]']         \n",
      "                                tentions(last_hidde                                               \n",
      "                                n_state=(None, 128,                                               \n",
      "                                 768),                                                            \n",
      "                                 pooler_output=(Non                                               \n",
      "                                e, 768),                                                          \n",
      "                                 past_key_values=No                                               \n",
      "                                ne, hidden_states=N                                               \n",
      "                                one, attentions=Non                                               \n",
      "                                e, cross_attentions                                               \n",
      "                                =None)                                                            \n",
      "                                                                                                  \n",
      " tf.__operators__.getitem (Slic  (None, 768)         0           ['tf_bert_model[0][0]']          \n",
      " ingOpLambda)                                                                                     \n",
      "                                                                                                  \n",
      " dense (Dense)                  (None, 256)          196864      ['tf.__operators__.getitem[0][0]'\n",
      "                                                                 ]                                \n",
      "                                                                                                  \n",
      " dropout_37 (Dropout)           (None, 256)          0           ['dense[0][0]']                  \n",
      "                                                                                                  \n",
      " dense_1 (Dense)                (None, 128)          32896       ['dropout_37[0][0]']             \n",
      "                                                                                                  \n",
      " dropout_38 (Dropout)           (None, 128)          0           ['dense_1[0][0]']                \n",
      "                                                                                                  \n",
      " dense_2 (Dense)                (None, 64)           8256        ['dropout_38[0][0]']             \n",
      "                                                                                                  \n",
      "==================================================================================================\n",
      "Total params: 110,796,224\n",
      "Trainable params: 110,796,224\n",
      "Non-trainable params: 0\n",
      "__________________________________________________________________________________________________\n"
     ]
    }
   ],
   "source": [
    "# Compile Model\n",
    "model.compile(\n",
    "    optimizer=tf.keras.optimizers.Adam(learning_rate=3e-5),\n",
    "    loss='sparse_categorical_crossentropy',\n",
    "    metrics=['accuracy']\n",
    ")\n",
    "\n",
    "model.summary()"
   ]
  },
  {
   "cell_type": "markdown",
   "metadata": {
    "id": "1QZ1QufGuTN5"
   },
   "source": [
    "#### Train model"
   ]
  },
  {
   "cell_type": "code",
   "execution_count": 21,
   "metadata": {
    "id": "mfkoJtOnP4tB"
   },
   "outputs": [
    {
     "name": "stdout",
     "output_type": "stream",
     "text": [
      "Epoch 1/10\n",
      "WARNING:tensorflow:Gradients do not exist for variables ['tf_bert_model/bert/pooler/dense/kernel:0', 'tf_bert_model/bert/pooler/dense/bias:0'] when minimizing the loss. If you're using `model.compile()`, did you forget to provide a `loss` argument?\n",
      "WARNING:tensorflow:Gradients do not exist for variables ['tf_bert_model/bert/pooler/dense/kernel:0', 'tf_bert_model/bert/pooler/dense/bias:0'] when minimizing the loss. If you're using `model.compile()`, did you forget to provide a `loss` argument?\n",
      "1083/1083 [==============================] - 650s 562ms/step - loss: 1.6982 - accuracy: 0.5922 - val_loss: 1.1595 - val_accuracy: 0.6973\n",
      "Epoch 2/10\n",
      "1083/1083 [==============================] - 600s 554ms/step - loss: 1.1236 - accuracy: 0.7036 - val_loss: 0.9943 - val_accuracy: 0.7199\n",
      "Epoch 3/10\n",
      "1083/1083 [==============================] - 601s 555ms/step - loss: 0.9632 - accuracy: 0.7394 - val_loss: 0.9396 - val_accuracy: 0.7400\n",
      "Epoch 4/10\n",
      "1083/1083 [==============================] - 600s 554ms/step - loss: 0.8507 - accuracy: 0.7673 - val_loss: 0.8838 - val_accuracy: 0.7532\n",
      "Epoch 5/10\n",
      "1083/1083 [==============================] - 602s 556ms/step - loss: 0.7546 - accuracy: 0.7924 - val_loss: 0.9479 - val_accuracy: 0.7509\n",
      "Epoch 6/10\n",
      "1083/1083 [==============================] - 602s 555ms/step - loss: 0.6649 - accuracy: 0.8178 - val_loss: 0.9367 - val_accuracy: 0.7453\n",
      "Epoch 7/10\n",
      "1083/1083 [==============================] - 597s 551ms/step - loss: 0.5962 - accuracy: 0.8347 - val_loss: 0.9281 - val_accuracy: 0.7647\n"
     ]
    }
   ],
   "source": [
    "# Train Model\n",
    "history = model.fit(\n",
    "    [np.array(X_train_ids), np.array(X_train_masks)],\n",
    "    y_train,\n",
    "    validation_data=([np.array(X_test_ids), np.array(X_test_masks)], y_test),\n",
    "    epochs=10,\n",
    "    batch_size=16,\n",
    "    callbacks=[\n",
    "        EarlyStopping(monitor='val_loss', patience=3, restore_best_weights=True),\n",
    "    ]\n",
    ")"
   ]
  },
  {
   "cell_type": "code",
   "execution_count": 22,
   "metadata": {
    "id": "EB_lG0jMmr8-"
   },
   "outputs": [
    {
     "data": {
      "image/png": "[encoded data removed]",
      "text/plain": [
       "<Figure size 640x480 with 1 Axes>"
      ]
     },
     "metadata": {},
     "output_type": "display_data"
    },
    {
     "data": {
      "image/png": "[encoded data removed]",
      "text/plain": [
       "<Figure size 640x480 with 1 Axes>"
      ]
     },
     "metadata": {},
     "output_type": "display_data"
    }
   ],
   "source": [
    "# Plot Loss\n",
    "plt.plot(history.history['loss'], label='Training Loss')\n",
    "plt.plot(history.history['val_loss'], label='Validation Loss')\n",
    "plt.xlabel('Epoch')\n",
    "plt.ylabel('Loss')\n",
    "plt.legend()\n",
    "plt.title('Training and Validation Loss')\n",
    "plt.show()\n",
    "\n",
    "# Plot Accuracy\n",
    "plt.plot(history.history['accuracy'], label='Training Accuracy')\n",
    "plt.plot(history.history['val_accuracy'], label='Validation Accuracy')\n",
    "plt.xlabel('Epoch')\n",
    "plt.ylabel('Accuracy')\n",
    "plt.legend()\n",
    "plt.title('Training and Validation Accuracy')\n",
    "plt.show()"
   ]
  },
  {
   "cell_type": "code",
   "execution_count": 23,
   "metadata": {
    "id": "V_VZzhXMP4tC"
   },
   "outputs": [
    {
     "name": "stdout",
     "output_type": "stream",
     "text": [
      "136/136 [==============================] - 41s 297ms/step - loss: 0.8838 - accuracy: 0.7532\n",
      "Accuracy: 0.7531747817993164\n"
     ]
    }
   ],
   "source": [
    "# Evaluasi Model\n",
    "loss, accuracy = model.evaluate([np.array(X_test_ids), np.array(X_test_masks)], y_test)\n",
    "print(f\"Accuracy: {accuracy}\")"
   ]
  },
  {
   "cell_type": "markdown",
   "metadata": {
    "id": "yVMB1I4dXZJp"
   },
   "source": [
    "### Test model"
   ]
  },
  {
   "cell_type": "code",
   "execution_count": 24,
   "metadata": {
    "id": "XoCSdkTuP4tD"
   },
   "outputs": [
    {
     "name": "stdout",
     "output_type": "stream",
     "text": [
      "1/1 [==============================] - 14s 14s/step\n",
      "Predicted Categories: ['tidak-diketahui' 'lain-lain' 'pencurian' 'narkotika-dan-psikotropika'\n",
      " 'tidak-diketahui']\n"
     ]
    }
   ],
   "source": [
    "# Prediksi pada Data Baru\n",
    "predictions = model.predict({\n",
    "    \"input_ids\": np.array(X_test_ids[:5]),\n",
    "    \"attention_mask\": np.array(X_test_masks[:5])\n",
    "})\n",
    "predicted_classes = label_encoder.inverse_transform(predictions.argmax(axis=1))\n",
    "print(\"Predicted Categories:\", predicted_classes)"
   ]
  },
  {
   "cell_type": "code",
   "execution_count": 25,
   "metadata": {
    "id": "M7LAsx_GP4tE"
   },
   "outputs": [
    {
     "name": "stdout",
     "output_type": "stream",
     "text": [
      "{'input_ids': [3, 17572, 16, 1737, 6565, 18, 18, 18, 4, 0, 0, 0, 0, 0, 0, 0, 0, 0, 0, 0, 0, 0, 0, 0, 0, 0, 0, 0, 0, 0, 0, 0, 0, 0, 0, 0, 0, 0, 0, 0, 0, 0, 0, 0, 0, 0, 0, 0, 0, 0, 0, 0, 0, 0, 0, 0, 0, 0, 0, 0, 0, 0, 0, 0, 0, 0, 0, 0, 0, 0, 0, 0, 0, 0, 0, 0, 0, 0, 0, 0, 0, 0, 0, 0, 0, 0, 0, 0, 0, 0, 0, 0, 0, 0, 0, 0, 0, 0, 0, 0, 0, 0, 0, 0, 0, 0, 0, 0, 0, 0, 0, 0, 0, 0, 0, 0, 0, 0, 0, 0, 0, 0, 0, 0, 0, 0, 0, 0, 0, 0, 0, 0, 0, 0, 0, 0, 0, 0, 0, 0, 0, 0, 0, 0, 0, 0, 0, 0, 0, 0, 0, 0, 0, 0, 0, 0, 0, 0, 0, 0, 0, 0, 0, 0, 0, 0, 0, 0, 0, 0, 0, 0, 0, 0, 0, 0, 0, 0, 0, 0, 0, 0, 0, 0, 0, 0, 0, 0, 0, 0, 0, 0, 0, 0, 0, 0, 0, 0, 0, 0], 'token_type_ids': [0, 0, 0, 0, 0, 0, 0, 0, 0, 0, 0, 0, 0, 0, 0, 0, 0, 0, 0, 0, 0, 0, 0, 0, 0, 0, 0, 0, 0, 0, 0, 0, 0, 0, 0, 0, 0, 0, 0, 0, 0, 0, 0, 0, 0, 0, 0, 0, 0, 0, 0, 0, 0, 0, 0, 0, 0, 0, 0, 0, 0, 0, 0, 0, 0, 0, 0, 0, 0, 0, 0, 0, 0, 0, 0, 0, 0, 0, 0, 0, 0, 0, 0, 0, 0, 0, 0, 0, 0, 0, 0, 0, 0, 0, 0, 0, 0, 0, 0, 0, 0, 0, 0, 0, 0, 0, 0, 0, 0, 0, 0, 0, 0, 0, 0, 0, 0, 0, 0, 0, 0, 0, 0, 0, 0, 0, 0, 0, 0, 0, 0, 0, 0, 0, 0, 0, 0, 0, 0, 0, 0, 0, 0, 0, 0, 0, 0, 0, 0, 0, 0, 0, 0, 0, 0, 0, 0, 0, 0, 0, 0, 0, 0, 0, 0, 0, 0, 0, 0, 0, 0, 0, 0, 0, 0, 0, 0, 0, 0, 0, 0, 0, 0, 0, 0, 0, 0, 0, 0, 0, 0, 0, 0, 0, 0, 0, 0, 0, 0, 0], 'attention_mask': [1, 1, 1, 1, 1, 1, 1, 1, 1, 0, 0, 0, 0, 0, 0, 0, 0, 0, 0, 0, 0, 0, 0, 0, 0, 0, 0, 0, 0, 0, 0, 0, 0, 0, 0, 0, 0, 0, 0, 0, 0, 0, 0, 0, 0, 0, 0, 0, 0, 0, 0, 0, 0, 0, 0, 0, 0, 0, 0, 0, 0, 0, 0, 0, 0, 0, 0, 0, 0, 0, 0, 0, 0, 0, 0, 0, 0, 0, 0, 0, 0, 0, 0, 0, 0, 0, 0, 0, 0, 0, 0, 0, 0, 0, 0, 0, 0, 0, 0, 0, 0, 0, 0, 0, 0, 0, 0, 0, 0, 0, 0, 0, 0, 0, 0, 0, 0, 0, 0, 0, 0, 0, 0, 0, 0, 0, 0, 0, 0, 0, 0, 0, 0, 0, 0, 0, 0, 0, 0, 0, 0, 0, 0, 0, 0, 0, 0, 0, 0, 0, 0, 0, 0, 0, 0, 0, 0, 0, 0, 0, 0, 0, 0, 0, 0, 0, 0, 0, 0, 0, 0, 0, 0, 0, 0, 0, 0, 0, 0, 0, 0, 0, 0, 0, 0, 0, 0, 0, 0, 0, 0, 0, 0, 0, 0, 0, 0, 0, 0, 0]}\n"
     ]
    }
   ],
   "source": [
    "example_text = \"Menimbang, bahwa terdakwa...\"\n",
    "tokenized_example = tokenizer(example_text, max_length=200, padding=\"max_length\", truncation=True)\n",
    "print(tokenized_example)"
   ]
  },
  {
   "cell_type": "markdown",
   "metadata": {
    "id": "vgbM3u3GsQTY"
   },
   "source": [
    "### Save model"
   ]
  },
  {
   "cell_type": "code",
   "execution_count": 26,
   "metadata": {
    "id": "uL6YCAWxsSF9"
   },
   "outputs": [
    {
     "name": "stderr",
     "output_type": "stream",
     "text": [
      "WARNING:absl:Found untraced functions such as serving, embeddings_layer_call_fn, embeddings_layer_call_and_return_conditional_losses, encoder_layer_call_fn, encoder_layer_call_and_return_conditional_losses while saving (showing 5 of 421). These functions will not be directly callable after loading.\n"
     ]
    },
    {
     "name": "stdout",
     "output_type": "stream",
     "text": [
      "INFO:tensorflow:Assets written to: saved_model\\assets\n"
     ]
    },
    {
     "name": "stderr",
     "output_type": "stream",
     "text": [
      "INFO:tensorflow:Assets written to: saved_model\\assets\n"
     ]
    },
    {
     "data": {
      "text/plain": [
       "('../models/tokenizer_2\\\\tokenizer_config.json',\n",
       " '../models/tokenizer_2\\\\special_tokens_map.json',\n",
       " '../models/tokenizer_2\\\\vocab.txt',\n",
       " '../models/tokenizer_2\\\\added_tokens.json',\n",
       " '../models/tokenizer_2\\\\tokenizer.json')"
      ]
     },
     "execution_count": 26,
     "metadata": {},
     "output_type": "execute_result"
    }
   ],
   "source": [
    "# if you use google colab, uncomment this code\n",
    "# MODEL_PATH = \"drive/MyDrive/Colab Notebooks/Models/model_2.h5\"\n",
    "# TOKENIZR_PATH = \"drive/MyDrive/Colab Notebooks/Models/tokenizer_2\"\n",
    "\n",
    "# if you use local computer, uncomment this\n",
    "MODEL_PATH = \"../models/model_2.h5\"\n",
    "TOKENIZER_PATH = \"../models/tokenizer_2\"\n",
    "\n",
    "model.save(\"saved_model\", save_format=\"tf\")\n",
    "\n",
    "model.save(MODEL_PATH)\n",
    "tokenizer.save_pretrained(TOKENIZER_PATH)"
   ]
  }
 ],
 "metadata": {
  "accelerator": "GPU",
  "colab": {
   "gpuType": "T4",
   "provenance": [
    {
     "file_id": "https://github.com/akhmad-ardi/Bangkit-Project-PeduliPasal/blob/main/Machine%20Learning/notebooks/model_2.ipynb",
     "timestamp": 1733556467330
    }
   ],
   "toc_visible": true
  },
  "kernelspec": {
   "display_name": "Machine_Learning-ryZF-xD4",
   "language": "python",
   "name": "python3"
  },
  "language_info": {
   "codemirror_mode": {
    "name": "ipython",
    "version": 3
   },
   "file_extension": ".py",
   "mimetype": "text/x-python",
   "name": "python",
   "nbconvert_exporter": "python",
   "pygments_lexer": "ipython3",
   "version": "3.10.0"
  }
 },
 "nbformat": 4,
 "nbformat_minor": 0
}
