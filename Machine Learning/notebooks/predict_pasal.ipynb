{
 "cells": [
  {
   "cell_type": "code",
   "execution_count": null,
   "metadata": {},
   "outputs": [],
   "source": [
    "import pandas as pd\n",
    "\n",
    "import sys\n",
    "import os\n",
    "\n",
    "sys.path.append(os.path.abspath(\"../\"))"
   ]
  },
  {
   "cell_type": "code",
   "execution_count": 45,
   "metadata": {},
   "outputs": [],
   "source": [
    "df_kuhp = pd.read_csv(\"../data/dataset_csv/dataset_kuhp.csv\")"
   ]
  },
  {
   "cell_type": "code",
   "execution_count": 48,
   "metadata": {},
   "outputs": [
    {
     "data": {
      "text/html": [
       "<div>\n",
       "<style scoped>\n",
       "    .dataframe tbody tr th:only-of-type {\n",
       "        vertical-align: middle;\n",
       "    }\n",
       "\n",
       "    .dataframe tbody tr th {\n",
       "        vertical-align: top;\n",
       "    }\n",
       "\n",
       "    .dataframe thead th {\n",
       "        text-align: right;\n",
       "    }\n",
       "</style>\n",
       "<table border=\"1\" class=\"dataframe\">\n",
       "  <thead>\n",
       "    <tr style=\"text-align: right;\">\n",
       "      <th></th>\n",
       "      <th>BUKU</th>\n",
       "      <th>BAB</th>\n",
       "      <th>PASAL</th>\n",
       "      <th>ISI_PASAL</th>\n",
       "      <th>SUB_KLASIFIKASI</th>\n",
       "    </tr>\n",
       "  </thead>\n",
       "  <tbody>\n",
       "    <tr>\n",
       "      <th>0</th>\n",
       "      <td>NaN</td>\n",
       "      <td>BAB I</td>\n",
       "      <td>Pasal 1</td>\n",
       "      <td>(1)  Suatu perbuatan tidak dapat dipidana, kec...</td>\n",
       "      <td>tidak-diketahui</td>\n",
       "    </tr>\n",
       "    <tr>\n",
       "      <th>1</th>\n",
       "      <td>NaN</td>\n",
       "      <td>BAB I</td>\n",
       "      <td>Pasal 2</td>\n",
       "      <td>Ketentuan pidana dalam perundang-undang an dan...</td>\n",
       "      <td>tidak-diketahui</td>\n",
       "    </tr>\n",
       "    <tr>\n",
       "      <th>2</th>\n",
       "      <td>NaN</td>\n",
       "      <td>BAB I</td>\n",
       "      <td>Pasal 3</td>\n",
       "      <td>Ketentuan pidana dalam perundang-undangan Indo...</td>\n",
       "      <td>pelanggaran-lalu-lintas</td>\n",
       "    </tr>\n",
       "    <tr>\n",
       "      <th>3</th>\n",
       "      <td>NaN</td>\n",
       "      <td>BAB I</td>\n",
       "      <td>Pasal 4</td>\n",
       "      <td>Ketentuan pidana dalam perundang-undang an Ind...</td>\n",
       "      <td>pemalsuan</td>\n",
       "    </tr>\n",
       "    <tr>\n",
       "      <th>4</th>\n",
       "      <td>NaN</td>\n",
       "      <td>BAB I</td>\n",
       "      <td>Pasal 5</td>\n",
       "      <td>(1)  Ketentuan pidana dalam perundang-undangan...</td>\n",
       "      <td>tidak-diketahui</td>\n",
       "    </tr>\n",
       "  </tbody>\n",
       "</table>\n",
       "</div>"
      ],
      "text/plain": [
       "   BUKU    BAB    PASAL                                          ISI_PASAL  \\\n",
       "0   NaN  BAB I  Pasal 1  (1)  Suatu perbuatan tidak dapat dipidana, kec...   \n",
       "1   NaN  BAB I  Pasal 2  Ketentuan pidana dalam perundang-undang an dan...   \n",
       "2   NaN  BAB I  Pasal 3  Ketentuan pidana dalam perundang-undangan Indo...   \n",
       "3   NaN  BAB I  Pasal 4  Ketentuan pidana dalam perundang-undang an Ind...   \n",
       "4   NaN  BAB I  Pasal 5  (1)  Ketentuan pidana dalam perundang-undangan...   \n",
       "\n",
       "           SUB_KLASIFIKASI  \n",
       "0          tidak-diketahui  \n",
       "1          tidak-diketahui  \n",
       "2  pelanggaran-lalu-lintas  \n",
       "3                pemalsuan  \n",
       "4          tidak-diketahui  "
      ]
     },
     "execution_count": 48,
     "metadata": {},
     "output_type": "execute_result"
    }
   ],
   "source": [
    "df_kuhp[\"SUB_KLASIFIKASI\"] = df_kuhp[\"SUB_KLASIFIKASI\"].map(lambda text: text.replace(\" \", \"-\"))\n",
    "\n",
    "df_kuhp.head()"
   ]
  },
  {
   "cell_type": "code",
   "execution_count": 5,
   "metadata": {},
   "outputs": [],
   "source": [
    "df_pidana_umum = pd.read_csv(\"../data/dataset_csv/dataset_pidana_umum.csv\")"
   ]
  },
  {
   "cell_type": "code",
   "execution_count": 13,
   "metadata": {},
   "outputs": [],
   "source": [
    "import pickle\n",
    "import tensorflow as tf\n",
    "import pandas as pd\n",
    "from tensorflow.keras.preprocessing.sequence import pad_sequences\n",
    "\n",
    "model = tf.keras.models.load_model(\"../models/model_klasifikasi_pidana.h5\", compile=False)\n",
    "\n",
    "# open file tokenizer.pkl\n",
    "with open('../models/tokenizer.pkl', 'rb') as file:\n",
    "   tokenizer = pickle.load(file)"
   ]
  },
  {
   "cell_type": "code",
   "execution_count": 16,
   "metadata": {},
   "outputs": [],
   "source": [
    "df_pidana_umum = pd.read_csv(\"../data/dataset_csv/dataset_pidana_umum.csv\", encoding=\"utf-8\", usecols=[\"riwayat_dakwaan\", \"sub_klasifikasi\"])\n",
    "y = df_pidana_umum[\"sub_klasifikasi\"]\n",
    "\n",
    "sub_classification = y.unique()\n",
    "class_mapping = {label: idx for idx, label in enumerate(sub_classification)}\n",
    "y_encoded = y.map(class_mapping)\n",
    "\n",
    "def predict_pasal(input_text):\n",
    "   input_seq = tokenizer.texts_to_sequences([input_text])\n",
    "   input_padded = pad_sequences(input_seq, maxlen=300, padding='post', truncating='post')\n",
    "   prediction = model.predict(input_padded)\n",
    "   predicted_class = sub_classification[prediction.argmax()]\n",
    "   return predicted_class"
   ]
  },
  {
   "cell_type": "code",
   "execution_count": 58,
   "metadata": {},
   "outputs": [
    {
     "name": "stdout",
     "output_type": "stream",
     "text": [
      "\u001b[1m1/1\u001b[0m \u001b[32m━━━━━━━━━━━━━━━━━━━━\u001b[0m\u001b[37m\u001b[0m \u001b[1m0s\u001b[0m 375ms/step\n",
      "penipuan\n"
     ]
    }
   ],
   "source": [
    "predicted_pasal = predict_pasal(\"terdakwa [Nama Lengkap Terdakwa] dengan sengaja dan tanpa hak mengambil barang milik [Nama Korban], yaitu [Deskripsi Barang yang Dicuri]. Sebelumnya, terdakwa telah merencanakan aksi pencurian dengan membawa peralatan untuk membobol pintu. Setelah berhasil masuk, terdakwa mengambil barang curian dan langsung melarikan diri. Perbuatan terdakwa ini didukung oleh keterangan saksi [Nama Saksi] yang melihat terdakwa keluar dari rumah korban serta barang bukti berupa [Deskripsi Barang Bukti]. Berdasarkan fakta-fakta tersebut, Jaksa Penuntut Umum berpendapat bahwa terdakwa terbukti secara sah dan meyakinkan melakukan tindak pidana pencurian sebagaimana diatur dalam Pasal 362 KUHP dan menuntut pidana penjara selama [Lama Hukuman] tahun, denda sebesar [Jumlah Denda], dan biaya perkara.\")\n",
    "\n",
    "print(predicted_pasal)"
   ]
  },
  {
   "cell_type": "code",
   "execution_count": 81,
   "metadata": {},
   "outputs": [],
   "source": [
    "pasal = df_kuhp[df_kuhp[\"SUB_KLASIFIKASI\"] == predicted_pasal]\n",
    "\n",
    "pasal = pasal[[\"PASAL\", \"ISI_PASAL\"]]\n",
    "\n",
    "pasal = pasal.to_dict('records')"
   ]
  },
  {
   "cell_type": "code",
   "execution_count": 85,
   "metadata": {},
   "outputs": [
    {
     "name": "stdout",
     "output_type": "stream",
     "text": [
      "Pasal 185\n",
      "Barang siapa dalam perkelahian tanding merampas nyawa pihak lawan atau melukai tubuhnya, maka diterapkan ketentuan-ketentuan mengenai pembunuhan berencana, pembunuhan atau penganiayaan: 1. jika persyaratan tidak diatur terlebih dahulu; 2. jika perkelahian tanding tidak dilakukan di hadapan saksi kedua belah pihak; 3. jika pelaku dengan sengaja dan meru gikan pihak lawan, bersalah melakukan perbuatan penipuan atau yang me nyimpang dari persyaratan.\n",
      "Pasal 186\n",
      "(1) Para saksi dan dokter yang menghadiri perkelahian tanding, tidak dipidana. (2) Para saksi diancam: Biro Hukum dan Humas Badan Urusan Administrasi Mahkamah Agung-RI /g3/g3  1. dengan pidana penjara paling lama tiga tahun, jika persyaratan tidak diatur terlebih dahulu, atau jika para saksi menghasut para pihak untuk perkelahian tanding; 2. dengan pidana penjara paling lama empat tahun, jika para saksi dengan sengaja dan merugikan salah satu at au kedua belah pihak, bersalah melakukan perbuatan penipuan atau membiarkan para pihak melakukan perbuatan penipuan, atau membiarkan dilakukan penyimpangan daripada syarat-syarat; 3. ketentuan-ketentuan mengenai pembunuhan berencana, pembunuhan atau penganiayaan diterapkan terhadap saksi dalam perkelahian tanding, di mana satu pihak dirampas nyawanya atau menderita karena dilukai tubuhnya, jika ia dengan sengaja dan merugikan pihak itu bersalah melakukan perbuatan penipuan atau membiarkan penyimpangan dari persyaratan yang merugikan yang dikalahkan atau dilukai.  KEJAHATAN YANG MEMBAHAYAKAN KEAM ANAN UMUM BAGI ORANG ATAU BARANG\n",
      "Pasal 378\n",
      "Barang siapa dengan maksud untuk mengun tungkan diri sendiri atau orang lain secara melawan hukum, dengan memakai nama palsu atau martabat palsu, dengan tipu muslihat, ataupun rangkaian kebohongan, menggerakkan orang lain untuk menyerahkan barang sesuatu kepadanya, atau supaya memberi hutang rnaupun menghapuskan piutang diancam karena penipuan dengan pidana penjara paling lama empat tahun.\n",
      "Pasal 379\n",
      "Perbuatan yang dirumuskan dalam pasal 378, jika barang yang diserahkan itu bukan ternak dan harga daripada barang, hutang atau piutang itu tidak lebih dari dua puluh lima rupiah diancam sebagai penipuan ringan dengan pidana penjara paling lama tiga bulan atau pidana denda paling banyak dua ratus lima puluh rupiah.\n",
      "Pasal 400\n",
      "Diancam dengan pidana penjara paling lama lima tahun enan bulan, barang siapa yang mengurangi dengan penipuan hak-hak pemiutang: 1.  dalam hal pelepasan budel, kepailit an atau penyelesaian atau pada waktu diketahui akan terjadi salah satu di antaranya dan kemudian sungguh disusul dengan pelepasan budel. kepailitan atau penyelesaian menarik barang sesuatu dari budel atau menerima pembayaran baik dari hutang yang tak dapat di tagih maupun yang dapat ditagih, dalam hal terakhir dengan diketahuinya bahwa kepailitan atau penyelesaian penghutang sudah dimohonkan, atau akibat rund ingan dengan penghutang; 2.  di waktu verifikasi piutang-piutang dalam hal pelepasan budel, kepailitan atau penyelesaian. mengaku adan ya piutang yang tak ada atau memperbesar jumlah pi utang yang ada. Biro Hukum dan Humas Badan Urusan Administrasi Mahkamah Agung-RI /g3/g3\n"
     ]
    }
   ],
   "source": [
    "for p in pasal:\n",
    "   print(p[\"PASAL\"])\n",
    "   print(p[\"ISI_PASAL\"])"
   ]
  }
 ],
 "metadata": {
  "kernelspec": {
   "display_name": "Machine_Learning-snhz6Z04",
   "language": "python",
   "name": "python3"
  },
  "language_info": {
   "codemirror_mode": {
    "name": "ipython",
    "version": 3
   },
   "file_extension": ".py",
   "mimetype": "text/x-python",
   "name": "python",
   "nbconvert_exporter": "python",
   "pygments_lexer": "ipython3",
   "version": "3.10.6"
  }
 },
 "nbformat": 4,
 "nbformat_minor": 2
}
